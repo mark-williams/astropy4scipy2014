{
 "cells": [
  {
   "cell_type": "markdown",
   "metadata": {},
   "source": [
    "# Tables introduction"
   ]
  },
  {
   "cell_type": "markdown",
   "metadata": {},
   "source": [
    "* [Back to tutorial home](http://astropy4scipy2014.readthedocs.org/)\n",
    "* [Download raw notebook file](https://github.com/astropy/astropy4scipy2014/raw/master/notebooks/03_Tables.ipynb)"
   ]
  },
  {
   "cell_type": "markdown",
   "metadata": {},
   "source": [
    "The astropy [Table](http://docs.astropy.org/en/stable/table/index.html) class provides an extension of NumPy structured arrays for storing and manipulating heterogeneous tables of data. A few notable features of this package are:\n",
    "\n",
    "- Initialize a table from a wide variety of input data structures and types.\n",
    "- Modify a table by adding or removing columns, changing column names, or adding new rows of data.\n",
    "- Handle tables containing missing values.\n",
    "- Include table and column metadata as flexible data structures.\n",
    "- Specify a description, units and output formatting for columns.\n",
    "- Perform operations like database joins, concatenation, and grouping.\n",
    "- Manipulate multidimensional columns.\n",
    "- Methods for Reading and writing Table objects to files\n",
    "- Integration with Astropy [Units and Quantities](http://astropy.readthedocs.org/en/stable/units/index.html)\n",
    "\n",
    "Why not Pandas\n",
    "--------------\n",
    "\n",
    "The [Pandas](http://pandas.pydata.org/pandas-docs/stable/) package provides a powerful, high-performance table object via the [DataFrame](http://pandas.pydata.org/pandas-docs/stable/generated/pandas.DataFrame.html#pandas.DataFrame) class.  Unfortunately there are a few issues that prevent use as a generalize table object in astronomy.  The most crucial is lack of support for multidimensional table columns.  This is commonly used in standard FITS data products, for instance the Chandra energy response matrix used to analyze spectral data.\n",
    "\n",
    "Documentation\n",
    "-------------\n",
    "\n",
    "For more information about the features presented below, you can read the\n",
    "[astropy.table](http://docs.astropy.org/en/stable/table/index.html) docs.\n",
    "\n",
    "*****\n",
    "*****\n",
    "\n",
    "Tutorial\n",
    "==========="
   ]
  },
  {
   "cell_type": "code",
   "execution_count": 1,
   "metadata": {},
   "outputs": [],
   "source": [
    "from __future__ import print_function, division\n",
    "from astropy.table import Table\n",
    "import numpy as np"
   ]
  },
  {
   "cell_type": "markdown",
   "metadata": {},
   "source": [
    "Creating tables\n",
    "---------------\n",
    "\n",
    "There is great deal of flexibility in the way that a table can be initially constructed:\n",
    "\n",
    "- Read an existing table from a file or web URL\n",
    "- Add columns of data one by one\n",
    "- Add rows of data one by one\n",
    "- From an existing data structure in memory:\n",
    "\n",
    "  - List of data columns\n",
    "  - Dict of data columns\n",
    "  - List of row dicts\n",
    "  - Numpy homgeneous array or structured array\n",
    "  - List of row records (new in 0.4)\n",
    "  \n",
    "See the documentation section on [Constructing a table](http://astropy.readthedocs.org/en/stable/table/construct_table.html) for the gory details and plenty of examples."
   ]
  },
  {
   "cell_type": "code",
   "execution_count": 2,
   "metadata": {},
   "outputs": [],
   "source": [
    "t = Table()\n",
    "t['name'] = ['source 1', 'source 2', 'source 3', 'source 4']\n",
    "t['flux'] = [1.2, 2.2, 3.1, 4.3]"
   ]
  },
  {
   "cell_type": "markdown",
   "metadata": {},
   "source": [
    "### Looking at your table\n",
    "\n",
    "In IPython notebook, showing a table will produce a nice HTML representation of the table:"
   ]
  },
  {
   "cell_type": "code",
   "execution_count": 3,
   "metadata": {},
   "outputs": [
    {
     "data": {
      "text/html": [
       "<i>Table length=4</i>\n",
       "<table id=\"table4743618192\" class=\"table-striped table-bordered table-condensed\">\n",
       "<thead><tr><th>name</th><th>flux</th></tr></thead>\n",
       "<thead><tr><th>str8</th><th>float64</th></tr></thead>\n",
       "<tr><td>source 1</td><td>1.2</td></tr>\n",
       "<tr><td>source 2</td><td>2.2</td></tr>\n",
       "<tr><td>source 3</td><td>3.1</td></tr>\n",
       "<tr><td>source 4</td><td>4.3</td></tr>\n",
       "</table>"
      ],
      "text/plain": [
       "<Table length=4>\n",
       "  name     flux \n",
       "  str8   float64\n",
       "-------- -------\n",
       "source 1     1.2\n",
       "source 2     2.2\n",
       "source 3     3.1\n",
       "source 4     4.3"
      ]
     },
     "execution_count": 3,
     "metadata": {},
     "output_type": "execute_result"
    }
   ],
   "source": [
    "t"
   ]
  },
  {
   "cell_type": "markdown",
   "metadata": {},
   "source": [
    "If you did the same in a terminal session you get a different view that isn't as pretty but does give a bit more information about the table:\n",
    "\n",
    "    >>> t\n",
    "    <Table rows=4 names=('name','flux')>\n",
    "    array([('source 1', 1.2), ('source 2', 2.2), ('source 3', 3.1),\n",
    "           ('source 4', 4.3)], \n",
    "          dtype=[('name', 'S8'), ('flux', '<f8')])\n",
    "\n",
    "To get a plain view which is the same in notebook and terminal use `print()`:"
   ]
  },
  {
   "cell_type": "code",
   "execution_count": 4,
   "metadata": {},
   "outputs": [
    {
     "name": "stdout",
     "output_type": "stream",
     "text": [
      "  name   flux\n",
      "-------- ----\n",
      "source 1  1.2\n",
      "source 2  2.2\n",
      "source 3  3.1\n",
      "source 4  4.3\n"
     ]
    }
   ],
   "source": [
    "print(t)"
   ]
  },
  {
   "cell_type": "markdown",
   "metadata": {},
   "source": [
    "To get the table column names and data types using the `colnames` and `dtype` properties:"
   ]
  },
  {
   "cell_type": "code",
   "execution_count": 5,
   "metadata": {},
   "outputs": [
    {
     "data": {
      "text/plain": [
       "['name', 'flux']"
      ]
     },
     "execution_count": 5,
     "metadata": {},
     "output_type": "execute_result"
    }
   ],
   "source": [
    "t.colnames"
   ]
  },
  {
   "cell_type": "code",
   "execution_count": 6,
   "metadata": {},
   "outputs": [
    {
     "data": {
      "text/plain": [
       "dtype([('name', '<U8'), ('flux', '<f8')])"
      ]
     },
     "execution_count": 6,
     "metadata": {},
     "output_type": "execute_result"
    }
   ],
   "source": [
    "t.dtype"
   ]
  },
  {
   "cell_type": "markdown",
   "metadata": {},
   "source": [
    "### Accessing parts of the table\n",
    "\n",
    "We can access the columns and rows as for numpy structured arrays.  Notice that the outputs are `Column`, `Row` or `Table` objects depending on the context."
   ]
  },
  {
   "cell_type": "code",
   "execution_count": 7,
   "metadata": {},
   "outputs": [
    {
     "data": {
      "text/html": [
       "&lt;Column name=&apos;flux&apos; dtype=&apos;float64&apos; length=4&gt;\n",
       "<table>\n",
       "<tr><td>1.2</td></tr>\n",
       "<tr><td>2.2</td></tr>\n",
       "<tr><td>3.1</td></tr>\n",
       "<tr><td>4.3</td></tr>\n",
       "</table>"
      ],
      "text/plain": [
       "<Column name='flux' dtype='float64' length=4>\n",
       "1.2\n",
       "2.2\n",
       "3.1\n",
       "4.3"
      ]
     },
     "execution_count": 7,
     "metadata": {},
     "output_type": "execute_result"
    }
   ],
   "source": [
    "t['flux']  # Flux column (notice meta attributes)"
   ]
  },
  {
   "cell_type": "code",
   "execution_count": 8,
   "metadata": {},
   "outputs": [
    {
     "data": {
      "text/plain": [
       "2.2"
      ]
     },
     "execution_count": 8,
     "metadata": {},
     "output_type": "execute_result"
    }
   ],
   "source": [
    "t['flux'][1]  # Row 1 of flux column"
   ]
  },
  {
   "cell_type": "code",
   "execution_count": 9,
   "metadata": {},
   "outputs": [
    {
     "data": {
      "text/html": [
       "<i>Row index=1</i>\n",
       "<table id=\"table4743618192\">\n",
       "<thead><tr><th>name</th><th>flux</th></tr></thead>\n",
       "<thead><tr><th>str8</th><th>float64</th></tr></thead>\n",
       "<tr><td>source 2</td><td>2.2</td></tr>\n",
       "</table>"
      ],
      "text/plain": [
       "<Row index=1>\n",
       "  name     flux \n",
       "  str8   float64\n",
       "-------- -------\n",
       "source 2     2.2"
      ]
     },
     "execution_count": 9,
     "metadata": {},
     "output_type": "execute_result"
    }
   ],
   "source": [
    "t[1]  # Row obj for with row 1 values"
   ]
  },
  {
   "cell_type": "code",
   "execution_count": 10,
   "metadata": {},
   "outputs": [
    {
     "data": {
      "text/plain": [
       "2.2"
      ]
     },
     "execution_count": 10,
     "metadata": {},
     "output_type": "execute_result"
    }
   ],
   "source": [
    "t[1]['flux']  # Flux column of row 1"
   ]
  },
  {
   "cell_type": "code",
   "execution_count": 11,
   "metadata": {},
   "outputs": [
    {
     "data": {
      "text/html": [
       "<i>Table length=2</i>\n",
       "<table id=\"table4743799888\" class=\"table-striped table-bordered table-condensed\">\n",
       "<thead><tr><th>name</th><th>flux</th></tr></thead>\n",
       "<thead><tr><th>str8</th><th>float64</th></tr></thead>\n",
       "<tr><td>source 2</td><td>2.2</td></tr>\n",
       "<tr><td>source 3</td><td>3.1</td></tr>\n",
       "</table>"
      ],
      "text/plain": [
       "<Table length=2>\n",
       "  name     flux \n",
       "  str8   float64\n",
       "-------- -------\n",
       "source 2     2.2\n",
       "source 3     3.1"
      ]
     },
     "execution_count": 11,
     "metadata": {},
     "output_type": "execute_result"
    }
   ],
   "source": [
    "t[1:3]  # 2nd and 3rd rows in a new table"
   ]
  },
  {
   "cell_type": "code",
   "execution_count": 12,
   "metadata": {},
   "outputs": [
    {
     "data": {
      "text/html": [
       "<i>Table length=2</i>\n",
       "<table id=\"table4743819344\" class=\"table-striped table-bordered table-condensed\">\n",
       "<thead><tr><th>name</th><th>flux</th></tr></thead>\n",
       "<thead><tr><th>str8</th><th>float64</th></tr></thead>\n",
       "<tr><td>source 2</td><td>2.2</td></tr>\n",
       "<tr><td>source 4</td><td>4.3</td></tr>\n",
       "</table>"
      ],
      "text/plain": [
       "<Table length=2>\n",
       "  name     flux \n",
       "  str8   float64\n",
       "-------- -------\n",
       "source 2     2.2\n",
       "source 4     4.3"
      ]
     },
     "execution_count": 12,
     "metadata": {},
     "output_type": "execute_result"
    }
   ],
   "source": [
    "t[[1, 3]]"
   ]
  },
  {
   "cell_type": "markdown",
   "metadata": {},
   "source": [
    "**One of the most powerful concepts is using boolean selection masks to filter tables**"
   ]
  },
  {
   "cell_type": "code",
   "execution_count": 13,
   "metadata": {},
   "outputs": [
    {
     "data": {
      "text/html": [
       "<i>Table length=2</i>\n",
       "<table id=\"table4743822352\" class=\"table-striped table-bordered table-condensed\">\n",
       "<thead><tr><th>name</th><th>flux</th></tr></thead>\n",
       "<thead><tr><th>str8</th><th>float64</th></tr></thead>\n",
       "<tr><td>source 3</td><td>3.1</td></tr>\n",
       "<tr><td>source 4</td><td>4.3</td></tr>\n",
       "</table>"
      ],
      "text/plain": [
       "<Table length=2>\n",
       "  name     flux \n",
       "  str8   float64\n",
       "-------- -------\n",
       "source 3     3.1\n",
       "source 4     4.3"
      ]
     },
     "execution_count": 13,
     "metadata": {},
     "output_type": "execute_result"
    }
   ],
   "source": [
    "mask = t['flux'] > 3.0  # Define boolean mask for all flux values > 3\n",
    "t[mask]  # Create a new table with only the \"high flux\" sources"
   ]
  },
  {
   "cell_type": "markdown",
   "metadata": {},
   "source": [
    "### Modifying the table\n",
    "\n",
    "Once the table exists with defined columns there are a number of ways to modify the table in place.  These are fully documented in the section [Modifying a Table](http://astropy.readthedocs.org/en/stable/table/modify_table.html#modifying-a-table).\n",
    "\n",
    "To give a couple of simple examples, you can add rows with the [add_row()](http://astropy.readthedocs.org/en/stable/api/astropy.table.table.Table.html#astropy.table.table.Table.add_row) method or add new columns using dict-style assignment:"
   ]
  },
  {
   "cell_type": "code",
   "execution_count": 14,
   "metadata": {},
   "outputs": [
    {
     "data": {
      "text/html": [
       "<i>Table length=5</i>\n",
       "<table id=\"table4743618192\" class=\"table-striped table-bordered table-condensed\">\n",
       "<thead><tr><th>name</th><th>flux</th><th>logflux</th></tr></thead>\n",
       "<thead><tr><th>str8</th><th>float64</th><th>float64</th></tr></thead>\n",
       "<tr><td>source 1</td><td>1.2</td><td>0.07918124604762482</td></tr>\n",
       "<tr><td>source 2</td><td>2.2</td><td>0.3424226808222063</td></tr>\n",
       "<tr><td>source 3</td><td>3.1</td><td>0.4913616938342727</td></tr>\n",
       "<tr><td>source 4</td><td>4.3</td><td>0.6334684555795865</td></tr>\n",
       "<tr><td>source 5</td><td>10.1</td><td>1.0043213737826426</td></tr>\n",
       "</table>"
      ],
      "text/plain": [
       "<Table length=5>\n",
       "  name     flux        logflux      \n",
       "  str8   float64       float64      \n",
       "-------- ------- -------------------\n",
       "source 1     1.2 0.07918124604762482\n",
       "source 2     2.2  0.3424226808222063\n",
       "source 3     3.1  0.4913616938342727\n",
       "source 4     4.3  0.6334684555795865\n",
       "source 5    10.1  1.0043213737826426"
      ]
     },
     "execution_count": 14,
     "metadata": {},
     "output_type": "execute_result"
    }
   ],
   "source": [
    "t.add_row(('source 5', 10.1))  # Add a new source at the end\n",
    "t['logflux'] = np.log10(t['flux'])  # Compute the log10 of the flux\n",
    "t"
   ]
  },
  {
   "cell_type": "markdown",
   "metadata": {},
   "source": [
    "Notice that the `logflux` column really has too many output digits given the precision of the input values.  We can fix this by setting the format using normal Python formatting syntax:"
   ]
  },
  {
   "cell_type": "code",
   "execution_count": 15,
   "metadata": {},
   "outputs": [
    {
     "data": {
      "text/html": [
       "<i>Table length=5</i>\n",
       "<table id=\"table4743618192\" class=\"table-striped table-bordered table-condensed\">\n",
       "<thead><tr><th>name</th><th>flux</th><th>logflux</th></tr></thead>\n",
       "<thead><tr><th>str8</th><th>float64</th><th>float64</th></tr></thead>\n",
       "<tr><td>source 1</td><td>1.20</td><td>0.08</td></tr>\n",
       "<tr><td>source 2</td><td>2.20</td><td>0.34</td></tr>\n",
       "<tr><td>source 3</td><td>3.10</td><td>0.49</td></tr>\n",
       "<tr><td>source 4</td><td>4.30</td><td>0.63</td></tr>\n",
       "<tr><td>source 5</td><td>10.10</td><td>1.00</td></tr>\n",
       "</table>"
      ],
      "text/plain": [
       "<Table length=5>\n",
       "  name     flux  logflux\n",
       "  str8   float64 float64\n",
       "-------- ------- -------\n",
       "source 1    1.20    0.08\n",
       "source 2    2.20    0.34\n",
       "source 3    3.10    0.49\n",
       "source 4    4.30    0.63\n",
       "source 5   10.10    1.00"
      ]
     },
     "execution_count": 15,
     "metadata": {},
     "output_type": "execute_result"
    }
   ],
   "source": [
    "t['flux'].format = '%.2f'\n",
    "t['logflux'].format = '%.2f'\n",
    "t"
   ]
  },
  {
   "cell_type": "markdown",
   "metadata": {},
   "source": [
    "### Converting the table to numpy\n",
    "\n",
    "Sometimes you may not want or be able to use a `Table` object and prefer to work with a plain numpy array.  This is easily done by passing the table to the `np.array()` constructor.  \n",
    "\n",
    "*This makes a copy of the data*.  If you have a huge table and don't want to waste memory, supply `copy=False` to the constructor, but be warned that changing the output numpy array will change the original table."
   ]
  },
  {
   "cell_type": "code",
   "execution_count": 16,
   "metadata": {},
   "outputs": [
    {
     "data": {
      "text/plain": [
       "array([('source 1',  1.2, 0.07918125), ('source 2',  2.2, 0.34242268),\n",
       "       ('source 3',  3.1, 0.49136169), ('source 4',  4.3, 0.63346846),\n",
       "       ('source 5', 10.1, 1.00432137)],\n",
       "      dtype=[('name', '<U8'), ('flux', '<f8'), ('logflux', '<f8')])"
      ]
     },
     "execution_count": 16,
     "metadata": {},
     "output_type": "execute_result"
    }
   ],
   "source": [
    "np.array(t)"
   ]
  },
  {
   "cell_type": "markdown",
   "metadata": {},
   "source": [
    "Masked tables\n",
    "-------------"
   ]
  },
  {
   "cell_type": "code",
   "execution_count": 17,
   "metadata": {},
   "outputs": [
    {
     "data": {
      "text/html": [
       "<i>Table masked=True length=3</i>\n",
       "<table id=\"table4743835856\" class=\"table-striped table-bordered table-condensed\">\n",
       "<thead><tr><th>name</th><th>value</th></tr></thead>\n",
       "<thead><tr><th>str1</th><th>float64</th></tr></thead>\n",
       "<tr><td>x</td><td>1.1</td></tr>\n",
       "<tr><td>y</td><td>2.2</td></tr>\n",
       "<tr><td>z</td><td>3.3</td></tr>\n",
       "</table>"
      ],
      "text/plain": [
       "<Table masked=True length=3>\n",
       "name  value \n",
       "str1 float64\n",
       "---- -------\n",
       "   x     1.1\n",
       "   y     2.2\n",
       "   z     3.3"
      ]
     },
     "execution_count": 17,
     "metadata": {},
     "output_type": "execute_result"
    }
   ],
   "source": [
    "t2 = Table([['x', 'y', 'z'], \n",
    "            [1.1, 2.2, 3.3]],\n",
    "           names=['name', 'value'],\n",
    "           masked=True)\n",
    "t2"
   ]
  },
  {
   "cell_type": "code",
   "execution_count": 18,
   "metadata": {},
   "outputs": [],
   "source": [
    "t2['value'].mask = [False, True, False]"
   ]
  },
  {
   "cell_type": "code",
   "execution_count": 19,
   "metadata": {},
   "outputs": [
    {
     "name": "stdout",
     "output_type": "stream",
     "text": [
      "name value\n",
      "---- -----\n",
      "   x   1.1\n",
      "   y    --\n",
      "   z   3.3\n"
     ]
    }
   ],
   "source": [
    "print(t2)"
   ]
  },
  {
   "cell_type": "code",
   "execution_count": 20,
   "metadata": {},
   "outputs": [
    {
     "name": "stdout",
     "output_type": "stream",
     "text": [
      "name value\n",
      "---- -----\n",
      "   x   1.1\n",
      "   y -99.0\n",
      "   z   3.3\n"
     ]
    }
   ],
   "source": [
    "t2['value'].fill_value = -99\n",
    "print(t2.filled())"
   ]
  },
  {
   "cell_type": "markdown",
   "metadata": {},
   "source": [
    "High-level table operations\n",
    "----------------------------\n",
    "\n",
    "So far we've just worked with one table at a time and viewed that table as a monolithic entity.  Astropy also supports high-level [Table operations](http://astropy.readthedocs.org/en/stable/table/operations.html) that manipulate multiple tables or view one table as a collection of sub-tables (groups).\n",
    "\n",
    " Documentation\t                                                                         | Description\n",
    "---------------------------------------------------------------------------------------- |-----------------------------------------\n",
    "[Grouped operations](http://astropy.readthedocs.org/en/stable/table/operations.html#id2) | Group tables and columns by keys\n",
    "[Stack vertically](http://astropy.readthedocs.org/en/stable/table/operations.html#id3)   | Concatenate input tables along rows\n",
    "[Stack horizontally](http://astropy.readthedocs.org/en/stable/table/operations.html#id4) | Concatenate input tables along columns\n",
    "[Join](http://astropy.readthedocs.org/en/stable/table/operations.html#join)              | Database-style join of two tables\n",
    "\n",
    "Here we'll just introduce the join operation but go into more detail on the others in the exercises."
   ]
  },
  {
   "cell_type": "code",
   "execution_count": 21,
   "metadata": {},
   "outputs": [],
   "source": [
    "from astropy.table import join"
   ]
  },
  {
   "cell_type": "markdown",
   "metadata": {},
   "source": [
    "Now recall our original table `t`:"
   ]
  },
  {
   "cell_type": "code",
   "execution_count": 22,
   "metadata": {},
   "outputs": [
    {
     "data": {
      "text/html": [
       "<i>Table length=5</i>\n",
       "<table id=\"table4743618192\" class=\"table-striped table-bordered table-condensed\">\n",
       "<thead><tr><th>name</th><th>flux</th><th>logflux</th></tr></thead>\n",
       "<thead><tr><th>str8</th><th>float64</th><th>float64</th></tr></thead>\n",
       "<tr><td>source 1</td><td>1.20</td><td>0.08</td></tr>\n",
       "<tr><td>source 2</td><td>2.20</td><td>0.34</td></tr>\n",
       "<tr><td>source 3</td><td>3.10</td><td>0.49</td></tr>\n",
       "<tr><td>source 4</td><td>4.30</td><td>0.63</td></tr>\n",
       "<tr><td>source 5</td><td>10.10</td><td>1.00</td></tr>\n",
       "</table>"
      ],
      "text/plain": [
       "<Table length=5>\n",
       "  name     flux  logflux\n",
       "  str8   float64 float64\n",
       "-------- ------- -------\n",
       "source 1    1.20    0.08\n",
       "source 2    2.20    0.34\n",
       "source 3    3.10    0.49\n",
       "source 4    4.30    0.63\n",
       "source 5   10.10    1.00"
      ]
     },
     "execution_count": 22,
     "metadata": {},
     "output_type": "execute_result"
    }
   ],
   "source": [
    "t"
   ]
  },
  {
   "cell_type": "markdown",
   "metadata": {},
   "source": [
    "Now say that we now got some additional flux values from a different reference for a different, but overlapping sample of sources:"
   ]
  },
  {
   "cell_type": "code",
   "execution_count": 23,
   "metadata": {},
   "outputs": [],
   "source": [
    "t2 = Table()\n",
    "t2['name'] = ['source 1', 'source 3', 'source 8']\n",
    "t2['flux2'] = [1.4, 3.5, 8.6]"
   ]
  },
  {
   "cell_type": "markdown",
   "metadata": {},
   "source": [
    "Now we can get a master table of flux measurements which are joined matching the values the `name` column.  This includes every row from each of the two tables, which is known as an **`outer`** join."
   ]
  },
  {
   "cell_type": "code",
   "execution_count": 24,
   "metadata": {},
   "outputs": [
    {
     "name": "stdout",
     "output_type": "stream",
     "text": [
      "  name    flux logflux flux2\n",
      "-------- ----- ------- -----\n",
      "source 1  1.20    0.08   1.4\n",
      "source 2  2.20    0.34    --\n",
      "source 3  3.10    0.49   3.5\n",
      "source 4  4.30    0.63    --\n",
      "source 5 10.10    1.00    --\n",
      "source 8    --      --   8.6\n"
     ]
    }
   ],
   "source": [
    "t3 = join(t, t2, keys=['name'], join_type='outer')\n",
    "print(t3)"
   ]
  },
  {
   "cell_type": "code",
   "execution_count": 25,
   "metadata": {},
   "outputs": [
    {
     "data": {
      "text/plain": [
       "4.5"
      ]
     },
     "execution_count": 25,
     "metadata": {},
     "output_type": "execute_result"
    }
   ],
   "source": [
    "np.mean(t3['flux2'])"
   ]
  },
  {
   "cell_type": "markdown",
   "metadata": {},
   "source": [
    "Alternately we could choose to keep only rows where both tables had a valid measurement using an **`inner`** join:"
   ]
  },
  {
   "cell_type": "code",
   "execution_count": 26,
   "metadata": {},
   "outputs": [
    {
     "data": {
      "text/html": [
       "<i>Table length=2</i>\n",
       "<table id=\"table4743913168\" class=\"table-striped table-bordered table-condensed\">\n",
       "<thead><tr><th>name</th><th>flux</th><th>logflux</th><th>flux2</th></tr></thead>\n",
       "<thead><tr><th>str8</th><th>float64</th><th>float64</th><th>float64</th></tr></thead>\n",
       "<tr><td>source 1</td><td>1.20</td><td>0.08</td><td>1.4</td></tr>\n",
       "<tr><td>source 3</td><td>3.10</td><td>0.49</td><td>3.5</td></tr>\n",
       "</table>"
      ],
      "text/plain": [
       "<Table length=2>\n",
       "  name     flux  logflux  flux2 \n",
       "  str8   float64 float64 float64\n",
       "-------- ------- ------- -------\n",
       "source 1    1.20    0.08     1.4\n",
       "source 3    3.10    0.49     3.5"
      ]
     },
     "execution_count": 26,
     "metadata": {},
     "output_type": "execute_result"
    }
   ],
   "source": [
    "join(t, t2, keys=['name'], join_type='inner')"
   ]
  },
  {
   "cell_type": "markdown",
   "metadata": {},
   "source": [
    "Writing data\n",
    "------------"
   ]
  },
  {
   "cell_type": "code",
   "execution_count": 27,
   "metadata": {},
   "outputs": [],
   "source": [
    "t3.write('test.fits', overwrite=True)"
   ]
  },
  {
   "cell_type": "code",
   "execution_count": 28,
   "metadata": {},
   "outputs": [],
   "source": [
    "t3.write('test.vot', format='votable', overwrite=True)"
   ]
  },
  {
   "cell_type": "markdown",
   "metadata": {},
   "source": [
    "Reading data\n",
    "------------\n",
    "\n",
    "You can read data using the [Table.read()](http://astropy.readthedocs.org/en/stable/api/astropy.table.table.Table.html#astropy.table.table.Table.read) method:"
   ]
  },
  {
   "cell_type": "code",
   "execution_count": 29,
   "metadata": {},
   "outputs": [
    {
     "data": {
      "text/html": [
       "<i>Table length=6</i>\n",
       "<table id=\"table4743821328\" class=\"table-striped table-bordered table-condensed\">\n",
       "<thead><tr><th>name</th><th>flux</th><th>logflux</th><th>flux2</th></tr></thead>\n",
       "<thead><tr><th>bytes8</th><th>float64</th><th>float64</th><th>float64</th></tr></thead>\n",
       "<tr><td>source 1</td><td>1.20</td><td>0.08</td><td>1.4</td></tr>\n",
       "<tr><td>source 2</td><td>2.20</td><td>0.34</td><td>nan</td></tr>\n",
       "<tr><td>source 3</td><td>3.10</td><td>0.49</td><td>3.5</td></tr>\n",
       "<tr><td>source 4</td><td>4.30</td><td>0.63</td><td>nan</td></tr>\n",
       "<tr><td>source 5</td><td>10.10</td><td>1.00</td><td>nan</td></tr>\n",
       "<tr><td>source 8</td><td>nan</td><td>nan</td><td>8.6</td></tr>\n",
       "</table>"
      ],
      "text/plain": [
       "<Table length=6>\n",
       "  name       flux      logflux    flux2 \n",
       " bytes8    float64     float64   float64\n",
       "-------- ----------- ----------- -------\n",
       "source 1        1.20        0.08     1.4\n",
       "source 2        2.20        0.34     nan\n",
       "source 3        3.10        0.49     3.5\n",
       "source 4        4.30        0.63     nan\n",
       "source 5       10.10        1.00     nan\n",
       "source 8         nan         nan     8.6"
      ]
     },
     "execution_count": 29,
     "metadata": {},
     "output_type": "execute_result"
    }
   ],
   "source": [
    "t4 = Table.read('test.fits')\n",
    "t4"
   ]
  },
  {
   "cell_type": "markdown",
   "metadata": {},
   "source": [
    "# Practical Exercises"
   ]
  },
  {
   "cell_type": "markdown",
   "metadata": {},
   "source": [
    "In these exercises you will work with data from the [Chandra Source Catalog](http://cxc.harvard.edu/csc/).  In particular we will analyze the properties of sources from a series of 21 [Chandra Deep Field South](http://cxc.harvard.edu/cdo/cdfs.html) observations taken during 2000 and 2007.\n",
    "\n",
    "The data sets used in these exercises were generated using the code in the **`supplemental/chandra_deep_field_south`** notebook to query the CSC via the web API.  You can try this yourself (but maybe not all at once!) if you have the [requests](http://docs.python-requests.org/en/latest/) module installed.   More information on querying the CSC can be found in the [command line interface](http://cxc.harvard.edu/csc/cli/index.html) documentation.\n"
   ]
  },
  {
   "cell_type": "markdown",
   "metadata": {},
   "source": [
    "### Read the data"
   ]
  },
  {
   "cell_type": "markdown",
   "metadata": {},
   "source": [
    "To start with, read in the two data files representing the master source list and observations source list.  The fields for the two tables are respectively documented in:\n",
    "\n",
    "- [master_sources](http://cxc.harvard.edu/csc/columns/master.html)\n",
    "- [obs_sources](http://cxc.harvard.edu/csc/columns/persrc.html)"
   ]
  },
  {
   "cell_type": "code",
   "execution_count": 34,
   "metadata": {},
   "outputs": [
    {
     "data": {
      "text/html": [
       "<i>Table length=209</i>\n",
       "<table id=\"table4743488912\" class=\"table-striped table-bordered table-condensed\">\n",
       "<thead><tr><th>msid</th><th>name</th><th>ra</th><th>dec</th></tr></thead>\n",
       "<thead><tr><th>int64</th><th>bytes20</th><th>bytes12</th><th>bytes12</th></tr></thead>\n",
       "<tr><td>11567</td><td>CXO J033206.1-275449</td><td>03 32 06.10</td><td>-27 54 49.73</td></tr>\n",
       "<tr><td>11570</td><td>CXO J033151.1-275051</td><td>03 31 51.15</td><td>-27 50 51.66</td></tr>\n",
       "<tr><td>11574</td><td>CXO J033236.1-275126</td><td>03 32 36.19</td><td>-27 51 26.87</td></tr>\n",
       "<tr><td>11576</td><td>CXO J033253.0-275138</td><td>03 32 53.09</td><td>-27 51 38.28</td></tr>\n",
       "<tr><td>11580</td><td>CXO J033213.4-274856</td><td>03 32 13.44</td><td>-27 48 56.20</td></tr>\n",
       "<tr><td>11586</td><td>CXO J033218.8-275136</td><td>03 32 18.86</td><td>-27 51 36.08</td></tr>\n",
       "<tr><td>11595</td><td>CXO J033244.3-275141</td><td>03 32 44.32</td><td>-27 51 41.71</td></tr>\n",
       "<tr><td>11600</td><td>CXO J033234.7-275535</td><td>03 32 34.74</td><td>-27 55 35.82</td></tr>\n",
       "<tr><td>11692</td><td>CXO J033153.4-274843</td><td>03 31 53.49</td><td>-27 48 43.92</td></tr>\n",
       "<tr><td>11788</td><td>CXO J033202.2-275234</td><td>03 32 02.29</td><td>-27 52 34.42</td></tr>\n",
       "<tr><td>...</td><td>...</td><td>...</td><td>...</td></tr>\n",
       "<tr><td>33233</td><td>CXO J033230.0-274404</td><td>03 32 30.01</td><td>-27 44 04.50</td></tr>\n",
       "<tr><td>33234</td><td>CXO J033237.4-274000</td><td>03 32 37.44</td><td>-27 40 00.74</td></tr>\n",
       "<tr><td>33235</td><td>CXO J033149.4-275034</td><td>03 31 49.46</td><td>-27 50 34.20</td></tr>\n",
       "<tr><td>33236</td><td>CXO J033149.4-274634</td><td>03 31 49.45</td><td>-27 46 34.46</td></tr>\n",
       "<tr><td>33239</td><td>CXO J033222.7-275224</td><td>03 32 22.76</td><td>-27 52 24.10</td></tr>\n",
       "<tr><td>33240</td><td>CXO J033226.5-274801</td><td>03 32 26.57</td><td>-27 48 01.82</td></tr>\n",
       "<tr><td>37759</td><td>CXO J033309.5-274603</td><td>03 33 09.52</td><td>-27 46 03.30</td></tr>\n",
       "<tr><td>148105</td><td>CXO J033234.2-273906</td><td>03 32 34.21</td><td>-27 39 06.46</td></tr>\n",
       "<tr><td>148106</td><td>CXO J033234.4-273913</td><td>03 32 34.44</td><td>-27 39 13.28</td></tr>\n",
       "<tr><td>148107</td><td>CXO J033247.9-274148</td><td>03 32 47.91</td><td>-27 41 48.03</td></tr>\n",
       "</table>"
      ],
      "text/plain": [
       "<Table length=209>\n",
       " msid          name              ra          dec     \n",
       "int64        bytes20          bytes12      bytes12   \n",
       "------ -------------------- ------------ ------------\n",
       " 11567 CXO J033206.1-275449  03 32 06.10 -27 54 49.73\n",
       " 11570 CXO J033151.1-275051  03 31 51.15 -27 50 51.66\n",
       " 11574 CXO J033236.1-275126  03 32 36.19 -27 51 26.87\n",
       " 11576 CXO J033253.0-275138  03 32 53.09 -27 51 38.28\n",
       " 11580 CXO J033213.4-274856  03 32 13.44 -27 48 56.20\n",
       " 11586 CXO J033218.8-275136  03 32 18.86 -27 51 36.08\n",
       " 11595 CXO J033244.3-275141  03 32 44.32 -27 51 41.71\n",
       " 11600 CXO J033234.7-275535  03 32 34.74 -27 55 35.82\n",
       " 11692 CXO J033153.4-274843  03 31 53.49 -27 48 43.92\n",
       " 11788 CXO J033202.2-275234  03 32 02.29 -27 52 34.42\n",
       "   ...                  ...          ...          ...\n",
       " 33233 CXO J033230.0-274404  03 32 30.01 -27 44 04.50\n",
       " 33234 CXO J033237.4-274000  03 32 37.44 -27 40 00.74\n",
       " 33235 CXO J033149.4-275034  03 31 49.46 -27 50 34.20\n",
       " 33236 CXO J033149.4-274634  03 31 49.45 -27 46 34.46\n",
       " 33239 CXO J033222.7-275224  03 32 22.76 -27 52 24.10\n",
       " 33240 CXO J033226.5-274801  03 32 26.57 -27 48 01.82\n",
       " 37759 CXO J033309.5-274603  03 33 09.52 -27 46 03.30\n",
       "148105 CXO J033234.2-273906  03 32 34.21 -27 39 06.46\n",
       "148106 CXO J033234.4-273913  03 32 34.44 -27 39 13.28\n",
       "148107 CXO J033247.9-274148  03 32 47.91 -27 41 48.03"
      ]
     },
     "execution_count": 34,
     "metadata": {},
     "output_type": "execute_result"
    }
   ],
   "source": [
    "master_sources = Table.read('data/cdfs_master_sources.fits')\n",
    "obs_sources = Table.read('data/cdfs_obs_sources.fits')\n",
    "\n",
    "master_sources\n",
    "# obs_sources"
   ]
  },
  {
   "cell_type": "markdown",
   "metadata": {},
   "source": [
    "**`master_sources`**\n",
    "\n",
    "Each distinct X-ray source identified on the sky is represented in the catalog by a single \"master source\" entry and one or more \"source observation\" entries, one for each observation in which the source has been detected. The master source entry records the best estimates of the properties of a source, based on the data extracted from the set of observations in which the source has been detected.  The subset of fields in our exercise table file are:\n",
    "\n",
    "Name | Description\n",
    "------ | ------------\n",
    "msid  | Master source ID\n",
    "name  | Source name in the Chandra catalog\n",
    "ra  | Source RA (deg)\n",
    "dec | Source Dec (deg)\n",
    "\n",
    "**`obs_sources`**\n",
    "\n",
    "The individual source entries record all of the properties about a detection extracted from a single observation, as well as associated file-based data products, which are observation-specific.  The subset of fields in our exercise table file are:\n",
    "\n",
    "Name | Description\n",
    "------ | ------------\n",
    "obsid | Observation ID\n",
    "obi | Observation interval\n",
    "targname | Target name\n",
    "gti_obs | Observation date\n",
    "flux_aper_b | Broad band (0.5 - 7 keV) flux (erg/cm2/sec)\n",
    "src_cnts_aper_b | Broad band source counts\n",
    "ra_b | Source RA (deg)\n",
    "dec_b | Source Dec (deg)\n",
    "livetime | Observation duration (sec)\n",
    "posid | Position ID\n",
    "theta | Off-axis angle (arcmin)\n",
    "msid | Master source ID"
   ]
  },
  {
   "cell_type": "markdown",
   "metadata": {},
   "source": [
    "## Level 1"
   ]
  },
  {
   "cell_type": "markdown",
   "metadata": {},
   "source": [
    "### Exploring the tables"
   ]
  },
  {
   "cell_type": "markdown",
   "metadata": {},
   "source": [
    "Do the following to explore the two tables:\n",
    "\n",
    "- Display the data for each table in IPython notebook using the normal way of showing the value of a variable.\n",
    "- Get a list of the column names for each table.  *Hint*: use `<TAB>` completion to easily discover all the attributes and methods, e.g. type `master_sources.` and then hit the `<TAB>` key.\n",
    "- Find the length of each table.\n",
    "- Find the column datatypes for each table.\n",
    "\n",
    "Normally one displays a table in IPython notebook by entering the variable name in a cell and pressing `shift-Enter`.  In a terminal session the default method is using something like `print(my_table)`.  In both cases the `Table` object prefers to display only a screenful of data to prevent having a zillion lines of output if the table is huge.  If you really want to see all the data you can use the [Table.pprint](http://astropy.readthedocs.org/en/stable/api/astropy.table.table.Table.html#astropy.table.table.Table.pprint) method.  Clicking on that documentation link will tell you the relevant arguments for the method.\n",
    "\n",
    "- Display all the rows of the `master_sources` table using its `pprint()` method.\n",
    "- If you are working in a regular terminal window (not IPython notebook), try the `more()` method as well."
   ]
  },
  {
   "cell_type": "code",
   "execution_count": 35,
   "metadata": {},
   "outputs": [
    {
     "data": {
      "text/html": [
       "<i>Table length=209</i>\n",
       "<table id=\"table4743488912\" class=\"table-striped table-bordered table-condensed\">\n",
       "<thead><tr><th>msid</th><th>name</th><th>ra</th><th>dec</th></tr></thead>\n",
       "<thead><tr><th>int64</th><th>bytes20</th><th>bytes12</th><th>bytes12</th></tr></thead>\n",
       "<tr><td>11567</td><td>CXO J033206.1-275449</td><td>03 32 06.10</td><td>-27 54 49.73</td></tr>\n",
       "<tr><td>11570</td><td>CXO J033151.1-275051</td><td>03 31 51.15</td><td>-27 50 51.66</td></tr>\n",
       "<tr><td>11574</td><td>CXO J033236.1-275126</td><td>03 32 36.19</td><td>-27 51 26.87</td></tr>\n",
       "<tr><td>11576</td><td>CXO J033253.0-275138</td><td>03 32 53.09</td><td>-27 51 38.28</td></tr>\n",
       "<tr><td>11580</td><td>CXO J033213.4-274856</td><td>03 32 13.44</td><td>-27 48 56.20</td></tr>\n",
       "<tr><td>11586</td><td>CXO J033218.8-275136</td><td>03 32 18.86</td><td>-27 51 36.08</td></tr>\n",
       "<tr><td>11595</td><td>CXO J033244.3-275141</td><td>03 32 44.32</td><td>-27 51 41.71</td></tr>\n",
       "<tr><td>11600</td><td>CXO J033234.7-275535</td><td>03 32 34.74</td><td>-27 55 35.82</td></tr>\n",
       "<tr><td>11692</td><td>CXO J033153.4-274843</td><td>03 31 53.49</td><td>-27 48 43.92</td></tr>\n",
       "<tr><td>11788</td><td>CXO J033202.2-275234</td><td>03 32 02.29</td><td>-27 52 34.42</td></tr>\n",
       "<tr><td>...</td><td>...</td><td>...</td><td>...</td></tr>\n",
       "<tr><td>33233</td><td>CXO J033230.0-274404</td><td>03 32 30.01</td><td>-27 44 04.50</td></tr>\n",
       "<tr><td>33234</td><td>CXO J033237.4-274000</td><td>03 32 37.44</td><td>-27 40 00.74</td></tr>\n",
       "<tr><td>33235</td><td>CXO J033149.4-275034</td><td>03 31 49.46</td><td>-27 50 34.20</td></tr>\n",
       "<tr><td>33236</td><td>CXO J033149.4-274634</td><td>03 31 49.45</td><td>-27 46 34.46</td></tr>\n",
       "<tr><td>33239</td><td>CXO J033222.7-275224</td><td>03 32 22.76</td><td>-27 52 24.10</td></tr>\n",
       "<tr><td>33240</td><td>CXO J033226.5-274801</td><td>03 32 26.57</td><td>-27 48 01.82</td></tr>\n",
       "<tr><td>37759</td><td>CXO J033309.5-274603</td><td>03 33 09.52</td><td>-27 46 03.30</td></tr>\n",
       "<tr><td>148105</td><td>CXO J033234.2-273906</td><td>03 32 34.21</td><td>-27 39 06.46</td></tr>\n",
       "<tr><td>148106</td><td>CXO J033234.4-273913</td><td>03 32 34.44</td><td>-27 39 13.28</td></tr>\n",
       "<tr><td>148107</td><td>CXO J033247.9-274148</td><td>03 32 47.91</td><td>-27 41 48.03</td></tr>\n",
       "</table>"
      ],
      "text/plain": [
       "<Table length=209>\n",
       " msid          name              ra          dec     \n",
       "int64        bytes20          bytes12      bytes12   \n",
       "------ -------------------- ------------ ------------\n",
       " 11567 CXO J033206.1-275449  03 32 06.10 -27 54 49.73\n",
       " 11570 CXO J033151.1-275051  03 31 51.15 -27 50 51.66\n",
       " 11574 CXO J033236.1-275126  03 32 36.19 -27 51 26.87\n",
       " 11576 CXO J033253.0-275138  03 32 53.09 -27 51 38.28\n",
       " 11580 CXO J033213.4-274856  03 32 13.44 -27 48 56.20\n",
       " 11586 CXO J033218.8-275136  03 32 18.86 -27 51 36.08\n",
       " 11595 CXO J033244.3-275141  03 32 44.32 -27 51 41.71\n",
       " 11600 CXO J033234.7-275535  03 32 34.74 -27 55 35.82\n",
       " 11692 CXO J033153.4-274843  03 31 53.49 -27 48 43.92\n",
       " 11788 CXO J033202.2-275234  03 32 02.29 -27 52 34.42\n",
       "   ...                  ...          ...          ...\n",
       " 33233 CXO J033230.0-274404  03 32 30.01 -27 44 04.50\n",
       " 33234 CXO J033237.4-274000  03 32 37.44 -27 40 00.74\n",
       " 33235 CXO J033149.4-275034  03 31 49.46 -27 50 34.20\n",
       " 33236 CXO J033149.4-274634  03 31 49.45 -27 46 34.46\n",
       " 33239 CXO J033222.7-275224  03 32 22.76 -27 52 24.10\n",
       " 33240 CXO J033226.5-274801  03 32 26.57 -27 48 01.82\n",
       " 37759 CXO J033309.5-274603  03 33 09.52 -27 46 03.30\n",
       "148105 CXO J033234.2-273906  03 32 34.21 -27 39 06.46\n",
       "148106 CXO J033234.4-273913  03 32 34.44 -27 39 13.28\n",
       "148107 CXO J033247.9-274148  03 32 47.91 -27 41 48.03"
      ]
     },
     "execution_count": 35,
     "metadata": {},
     "output_type": "execute_result"
    }
   ],
   "source": [
    "master_sources"
   ]
  },
  {
   "cell_type": "code",
   "execution_count": 36,
   "metadata": {},
   "outputs": [
    {
     "data": {
      "text/plain": [
       "['msid', 'name', 'ra', 'dec']"
      ]
     },
     "execution_count": 36,
     "metadata": {},
     "output_type": "execute_result"
    }
   ],
   "source": [
    "#  Column names\n",
    "master_sources.colnames\n"
   ]
  },
  {
   "cell_type": "code",
   "execution_count": 37,
   "metadata": {},
   "outputs": [
    {
     "data": {
      "text/plain": [
       "1637"
      ]
     },
     "execution_count": 37,
     "metadata": {},
     "output_type": "execute_result"
    }
   ],
   "source": [
    "#  No. of rows\n",
    "len(obs_sources)"
   ]
  },
  {
   "cell_type": "markdown",
   "metadata": {},
   "source": [
    "### Modifying tables"
   ]
  },
  {
   "cell_type": "markdown",
   "metadata": {},
   "source": [
    "For our analysis we don't actually need the `obi` (observation interval) column in the `obs_sources` table.\n",
    "\n",
    "- Remove the `obi` column from the `obs_sources` table.\n",
    "\n",
    "The `gti_obs` column name is a bit obscure (GTI is a good time interval, FWIW).\n",
    "\n",
    "- Rename the `gti_obs` column to `obs_date`.\n",
    "\n",
    "It would be nice to have a count rate in addition to the source counts.\n",
    "\n",
    "- Add a new column `src_rate_aper_b` which is the source counts divided by observation duration in sec.\n",
    "\n",
    "Some of the sources have a negative net flux in the broad band"
   ]
  },
  {
   "cell_type": "markdown",
   "metadata": {},
   "source": [
    "## Level 2"
   ]
  },
  {
   "cell_type": "markdown",
   "metadata": {},
   "source": [
    "### Looking at the observation source data"
   ]
  },
  {
   "cell_type": "markdown",
   "metadata": {},
   "source": [
    "For each source detected in an individual observation (in the `obs_sources` table), let's look at the source flux values.\n",
    "\n",
    "- Use the matplotlib [`hist()`]( http://matplotlib.org/api/pyplot_api.html?highlight=pyplot.hist#matplotlib.pyplot.hist) function to make a histogram of the source fluxes.  Since the fluxes vary by orders of magnitude,\n",
    "  use the `numpy.log10` to put the fluxes in log space.\n",
    "  \n",
    "*HINT*: if you did not start notebook with `--pylab=inline` then try:\n",
    "```\n",
    "import matplotlib.pyplot as plt\n",
    "%matplotlib inline\n",
    "```\n",
    "\n",
    "- Now make the same plot but using only sources within 4 arcmin of the center.  *HINT*: use a boolean mask to select values of `theta` that are less than 4.0."
   ]
  },
  {
   "cell_type": "markdown",
   "metadata": {},
   "source": [
    "### Join the master_sources and obs_sources tables"
   ]
  },
  {
   "cell_type": "markdown",
   "metadata": {},
   "source": [
    "The `master_sources` and `obs_sources` tables share a common `msid` column. What we now want is to join the master RA and Dec positions and master source names with the individual observations table.\n",
    "\n",
    "- Use the [table.join()](http://astropy.readthedocs.org/en/stable/table/operations.html#join) function to make a single table called `sources` that has the master RA, Dec, and name included for each observation source.\n",
    "\n",
    "*HINT*: the defaults for `keys` and `join_type='inner'`  are correct in this case, so the simplest possible call to `join()` will work!\n",
    "\n",
    "- *Intermediate*: Is the length of the new `sources` the same as `obs_sources`?  What happened?\n",
    "\n",
    "- *Advanced*: Make a scatter plot of the RA (x-axis) and Dec (y-axis) difference between the master source position and the observation source position.  You'll need to use `coordinates`!"
   ]
  },
  {
   "cell_type": "markdown",
   "metadata": {},
   "source": [
    "## Level 3"
   ]
  },
  {
   "cell_type": "markdown",
   "metadata": {},
   "source": [
    "### Grouped properties of `sources`"
   ]
  },
  {
   "cell_type": "markdown",
   "metadata": {},
   "source": [
    "Finally, we can look at the variability properties of sources in the CDFS using the [`group_by()`](http://astropy.readthedocs.org/en/stable/table/operations.html#id2) functionality.  \n",
    "\n",
    "This method makes a new table in which all the sources with identical master ID are next to each other.\n",
    "\n",
    "- Make a new table `g_sources` which is the `sources` table grouped by the `msid` key using the `group_by()` method.\n",
    "\n",
    "The `g_sources` table is just a regular table with all the `sources` in a particular order.  The attribute `g_sources.groups` is an object that provides access to the `msid` sub-groups.  You can access the $i^{th}$ group with `g_sources.groups[i]`.\n",
    "\n",
    "In addition the `g_sources.groups.indices` attribute is an array with the indicies of the group boundaries.\n",
    "\n",
    "- Using `np.diff()` find the number of repeat observations of each master sources.  *HINT*: use the indices, Luke.\n",
    "- Print the 50th group and note which columns are the same for all group members and which are different.  Does this make sense?  In these few observations how many different target names were provided by observers?"
   ]
  },
  {
   "cell_type": "markdown",
   "metadata": {},
   "source": [
    "#### Aggregation"
   ]
  },
  {
   "cell_type": "markdown",
   "metadata": {},
   "source": [
    "The real power of grouping comes in the ability to create aggregate values for each of the groups, for instance the mean flux for each unique source.  This is done with the [`aggregate()`](http://astropy.readthedocs.org/en/stable/table/operations.html#aggregation) method, which takes a function reference as its input.  This function must take as input an array of values and return a single value.\n",
    "\n",
    "Aggregate returns a new table that has a length equal to the number of groups.\n",
    "\n",
    "- Compute the mean of all columns for each unique source (i.e. each group) using `aggregate` and the `np.mean` function.  Call this table `g_sources_mean`.\n",
    "- Notice that aggregation cannot form a mean for certain columns and these are dropped from the output.  Use the `join()` function to restore the `master_sources` information to `g_sources_mean`."
   ]
  },
  {
   "cell_type": "markdown",
   "metadata": {},
   "source": [
    "[Back to top](#Tables-introduction)"
   ]
  }
 ],
 "metadata": {
  "kernelspec": {
   "display_name": "Python 3",
   "language": "python",
   "name": "python3"
  },
  "language_info": {
   "codemirror_mode": {
    "name": "ipython",
    "version": 3
   },
   "file_extension": ".py",
   "mimetype": "text/x-python",
   "name": "python",
   "nbconvert_exporter": "python",
   "pygments_lexer": "ipython3",
   "version": "3.7.4"
  }
 },
 "nbformat": 4,
 "nbformat_minor": 1
}
