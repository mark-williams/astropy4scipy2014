{
 "cells": [
  {
   "cell_type": "markdown",
   "metadata": {},
   "source": [
    "# Unit Conversion - Solutions"
   ]
  },
  {
   "cell_type": "markdown",
   "metadata": {},
   "source": [
    "* [Back to tutorial home](http://astropy4scipy2014.readthedocs.org/)\n",
    "* [Download raw notebook file](https://github.com/astropy/astropy4scipy2014/raw/master/notebooks/02_Unit_Conversion_solutions.ipynb)"
   ]
  },
  {
   "cell_type": "markdown",
   "metadata": {},
   "source": [
    "Level 1\n",
    "-------\n",
    "\n",
    "What is 1 barn megaparsecs in teaspoons?"
   ]
  },
  {
   "cell_type": "code",
   "execution_count": 1,
   "metadata": {},
   "outputs": [],
   "source": [
    "from astropy import units as u\n",
    "from astropy.units import imperial"
   ]
  },
  {
   "cell_type": "code",
   "execution_count": 2,
   "metadata": {},
   "outputs": [
    {
     "data": {
      "text/latex": [
       "$0.62603503 \\; \\mathrm{tsp}$"
      ],
      "text/plain": [
       "<Quantity 0.62603503 tsp>"
      ]
     },
     "execution_count": 2,
     "metadata": {},
     "output_type": "execute_result"
    }
   ],
   "source": [
    "(1. * u.barn * u.Mpc).to(imperial.tsp) "
   ]
  },
  {
   "cell_type": "markdown",
   "metadata": {},
   "source": [
    "Level 2\n",
    "-------\n",
    "\n",
    "What is $3 \\mathrm{nm}^2 \\mathrm{Mpc} / \\mathrm{m}^3$ in dimensionless units?"
   ]
  },
  {
   "cell_type": "code",
   "execution_count": 3,
   "metadata": {},
   "outputs": [
    {
     "data": {
      "text/latex": [
       "$92570.327 \\; \\mathrm{}$"
      ],
      "text/plain": [
       "<Quantity 92570.32744402>"
      ]
     },
     "execution_count": 3,
     "metadata": {},
     "output_type": "execute_result"
    }
   ],
   "source": [
    "(3. * u.nm**2 * u.Mpc / u.m**3).decompose()"
   ]
  },
  {
   "cell_type": "markdown",
   "metadata": {},
   "source": [
    "or to just get the numerical value:"
   ]
  },
  {
   "cell_type": "code",
   "execution_count": 4,
   "metadata": {},
   "outputs": [
    {
     "data": {
      "text/plain": [
       "92570.32744401575"
      ]
     },
     "execution_count": 4,
     "metadata": {},
     "output_type": "execute_result"
    }
   ],
   "source": [
    "(3. * u.nm**2 * u.Mpc / u.m**3).decompose().value"
   ]
  },
  {
   "cell_type": "markdown",
   "metadata": {},
   "source": [
    "Level 3\n",
    "-------\n",
    "\n",
    "Try and use equivalencies to find the doppler shifted wavelength of a line at $454.4\\mathrm{nm}$ if the object is moving at a velocity of $510\\mathrm{km}/\\mathrm{s}$ away from the observer."
   ]
  },
  {
   "cell_type": "code",
   "execution_count": 5,
   "metadata": {},
   "outputs": [
    {
     "data": {
      "text/latex": [
       "$455.17301 \\; \\mathrm{nm}$"
      ],
      "text/plain": [
       "<Quantity 455.17301478 nm>"
      ]
     },
     "execution_count": 5,
     "metadata": {},
     "output_type": "execute_result"
    }
   ],
   "source": [
    "(510. * u.km / u.s).to(u.nm, equivalencies=u.doppler_optical(454.4 * u.nm))"
   ]
  },
  {
   "cell_type": "markdown",
   "metadata": {},
   "source": [
    "[Back to top](#Unit-Conversion---Solutions)"
   ]
  }
 ],
 "metadata": {
  "kernelspec": {
   "display_name": "Python 3",
   "language": "python",
   "name": "python3"
  },
  "language_info": {
   "codemirror_mode": {
    "name": "ipython",
    "version": 3
   },
   "file_extension": ".py",
   "mimetype": "text/x-python",
   "name": "python",
   "nbconvert_exporter": "python",
   "pygments_lexer": "ipython3",
   "version": "3.7.4"
  }
 },
 "nbformat": 4,
 "nbformat_minor": 1
}
