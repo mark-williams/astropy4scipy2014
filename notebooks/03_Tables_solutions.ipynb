{
 "cells": [
  {
   "cell_type": "markdown",
   "metadata": {},
   "source": [
    "# Tables - solutions"
   ]
  },
  {
   "cell_type": "markdown",
   "metadata": {},
   "source": [
    "* [Back to tutorial home](http://astropy4scipy2014.readthedocs.org/)\n",
    "* [Download raw notebook file](https://github.com/astropy/astropy4scipy2014/raw/master/notebooks/03_Tables_solutions.ipynb)"
   ]
  },
  {
   "cell_type": "code",
   "execution_count": 1,
   "metadata": {},
   "outputs": [],
   "source": [
    "%matplotlib inline\n",
    "import matplotlib.pyplot as plt\n",
    "import numpy as np"
   ]
  },
  {
   "cell_type": "markdown",
   "metadata": {},
   "source": [
    "To start with, read in the two data files representing the master source list and observations source list.  The fields for the two tables are respectively documented in:\n",
    "\n",
    "- [master_sources](http://cxc.harvard.edu/csc/columns/master.html)\n",
    "- [obs_sources](http://cxc.harvard.edu/csc/columns/persrc.html)"
   ]
  },
  {
   "cell_type": "code",
   "execution_count": 2,
   "metadata": {},
   "outputs": [],
   "source": [
    "from astropy.table import Table"
   ]
  },
  {
   "cell_type": "code",
   "execution_count": 3,
   "metadata": {},
   "outputs": [],
   "source": [
    "master_sources = Table.read('data/cdfs_master_sources.fits')\n",
    "obs_sources = Table.read('data/cdfs_obs_sources.fits')"
   ]
  },
  {
   "cell_type": "markdown",
   "metadata": {},
   "source": [
    "### Exploring the data"
   ]
  },
  {
   "cell_type": "markdown",
   "metadata": {},
   "source": [
    "Do the following to explore the two tables:\n",
    "\n",
    "- Display the data for each table in IPython notebook using the normal way of showing the value of a variable.\n",
    "- Get a list of the column names for each table.  *Hint*: use `<TAB>` completion to easily discover all the attributes and methods, e.g. type `master_sources.` and then hit the `<TAB>` key.\n",
    "- Find the length of each table.\n",
    "- Find the column datatypes for each table."
   ]
  },
  {
   "cell_type": "code",
   "execution_count": 4,
   "metadata": {},
   "outputs": [
    {
     "data": {
      "text/html": [
       "<i>Table length=209</i>\n",
       "<table id=\"table4682845392\" class=\"table-striped table-bordered table-condensed\">\n",
       "<thead><tr><th>msid</th><th>name</th><th>ra</th><th>dec</th></tr></thead>\n",
       "<thead><tr><th>int64</th><th>bytes20</th><th>bytes12</th><th>bytes12</th></tr></thead>\n",
       "<tr><td>11567</td><td>CXO J033206.1-275449</td><td>03 32 06.10</td><td>-27 54 49.73</td></tr>\n",
       "<tr><td>11570</td><td>CXO J033151.1-275051</td><td>03 31 51.15</td><td>-27 50 51.66</td></tr>\n",
       "<tr><td>11574</td><td>CXO J033236.1-275126</td><td>03 32 36.19</td><td>-27 51 26.87</td></tr>\n",
       "<tr><td>11576</td><td>CXO J033253.0-275138</td><td>03 32 53.09</td><td>-27 51 38.28</td></tr>\n",
       "<tr><td>11580</td><td>CXO J033213.4-274856</td><td>03 32 13.44</td><td>-27 48 56.20</td></tr>\n",
       "<tr><td>11586</td><td>CXO J033218.8-275136</td><td>03 32 18.86</td><td>-27 51 36.08</td></tr>\n",
       "<tr><td>11595</td><td>CXO J033244.3-275141</td><td>03 32 44.32</td><td>-27 51 41.71</td></tr>\n",
       "<tr><td>11600</td><td>CXO J033234.7-275535</td><td>03 32 34.74</td><td>-27 55 35.82</td></tr>\n",
       "<tr><td>11692</td><td>CXO J033153.4-274843</td><td>03 31 53.49</td><td>-27 48 43.92</td></tr>\n",
       "<tr><td>11788</td><td>CXO J033202.2-275234</td><td>03 32 02.29</td><td>-27 52 34.42</td></tr>\n",
       "<tr><td>...</td><td>...</td><td>...</td><td>...</td></tr>\n",
       "<tr><td>33233</td><td>CXO J033230.0-274404</td><td>03 32 30.01</td><td>-27 44 04.50</td></tr>\n",
       "<tr><td>33234</td><td>CXO J033237.4-274000</td><td>03 32 37.44</td><td>-27 40 00.74</td></tr>\n",
       "<tr><td>33235</td><td>CXO J033149.4-275034</td><td>03 31 49.46</td><td>-27 50 34.20</td></tr>\n",
       "<tr><td>33236</td><td>CXO J033149.4-274634</td><td>03 31 49.45</td><td>-27 46 34.46</td></tr>\n",
       "<tr><td>33239</td><td>CXO J033222.7-275224</td><td>03 32 22.76</td><td>-27 52 24.10</td></tr>\n",
       "<tr><td>33240</td><td>CXO J033226.5-274801</td><td>03 32 26.57</td><td>-27 48 01.82</td></tr>\n",
       "<tr><td>37759</td><td>CXO J033309.5-274603</td><td>03 33 09.52</td><td>-27 46 03.30</td></tr>\n",
       "<tr><td>148105</td><td>CXO J033234.2-273906</td><td>03 32 34.21</td><td>-27 39 06.46</td></tr>\n",
       "<tr><td>148106</td><td>CXO J033234.4-273913</td><td>03 32 34.44</td><td>-27 39 13.28</td></tr>\n",
       "<tr><td>148107</td><td>CXO J033247.9-274148</td><td>03 32 47.91</td><td>-27 41 48.03</td></tr>\n",
       "</table>"
      ],
      "text/plain": [
       "<Table length=209>\n",
       " msid          name              ra          dec     \n",
       "int64        bytes20          bytes12      bytes12   \n",
       "------ -------------------- ------------ ------------\n",
       " 11567 CXO J033206.1-275449  03 32 06.10 -27 54 49.73\n",
       " 11570 CXO J033151.1-275051  03 31 51.15 -27 50 51.66\n",
       " 11574 CXO J033236.1-275126  03 32 36.19 -27 51 26.87\n",
       " 11576 CXO J033253.0-275138  03 32 53.09 -27 51 38.28\n",
       " 11580 CXO J033213.4-274856  03 32 13.44 -27 48 56.20\n",
       " 11586 CXO J033218.8-275136  03 32 18.86 -27 51 36.08\n",
       " 11595 CXO J033244.3-275141  03 32 44.32 -27 51 41.71\n",
       " 11600 CXO J033234.7-275535  03 32 34.74 -27 55 35.82\n",
       " 11692 CXO J033153.4-274843  03 31 53.49 -27 48 43.92\n",
       " 11788 CXO J033202.2-275234  03 32 02.29 -27 52 34.42\n",
       "   ...                  ...          ...          ...\n",
       " 33233 CXO J033230.0-274404  03 32 30.01 -27 44 04.50\n",
       " 33234 CXO J033237.4-274000  03 32 37.44 -27 40 00.74\n",
       " 33235 CXO J033149.4-275034  03 31 49.46 -27 50 34.20\n",
       " 33236 CXO J033149.4-274634  03 31 49.45 -27 46 34.46\n",
       " 33239 CXO J033222.7-275224  03 32 22.76 -27 52 24.10\n",
       " 33240 CXO J033226.5-274801  03 32 26.57 -27 48 01.82\n",
       " 37759 CXO J033309.5-274603  03 33 09.52 -27 46 03.30\n",
       "148105 CXO J033234.2-273906  03 32 34.21 -27 39 06.46\n",
       "148106 CXO J033234.4-273913  03 32 34.44 -27 39 13.28\n",
       "148107 CXO J033247.9-274148  03 32 47.91 -27 41 48.03"
      ]
     },
     "execution_count": 4,
     "metadata": {},
     "output_type": "execute_result"
    }
   ],
   "source": [
    "master_sources"
   ]
  },
  {
   "cell_type": "code",
   "execution_count": 5,
   "metadata": {},
   "outputs": [
    {
     "data": {
      "text/html": [
       "<i>Table length=1637</i>\n",
       "<table id=\"table4711399056\" class=\"table-striped table-bordered table-condensed\">\n",
       "<thead><tr><th>obsid</th><th>obi</th><th>targname</th><th>gti_obs</th><th>flux_aper_b</th><th>src_cnts_aper_b</th><th>ra_b</th><th>dec_b</th><th>livetime</th><th>posid</th><th>theta</th><th>msid</th></tr></thead>\n",
       "<thead><tr><th>int64</th><th>int64</th><th>bytes50</th><th>bytes19</th><th>float64</th><th>float64</th><th>bytes12</th><th>bytes12</th><th>float64</th><th>int64</th><th>float64</th><th>int64</th></tr></thead>\n",
       "<tr><td>441</td><td>0</td><td>AXAF Southern Deep Field - ACIS-I</td><td>2000-05-27T01:32:52</td><td>1.016e-14</td><td>53.492</td><td>03 32 50.25</td><td>-27 52 52.60</td><td>55967.0</td><td>14983</td><td>6.883</td><td>33150</td></tr>\n",
       "<tr><td>441</td><td>0</td><td>AXAF Southern Deep Field - ACIS-I</td><td>2000-05-27T01:32:52</td><td>1.64e-14</td><td>112.29</td><td>03 32 37.77</td><td>-27 52 12.63</td><td>55967.0</td><td>14984</td><td>4.569</td><td>33164</td></tr>\n",
       "<tr><td>441</td><td>0</td><td>AXAF Southern Deep Field - ACIS-I</td><td>2000-05-27T01:32:52</td><td>6.472e-15</td><td>43.247</td><td>03 32 43.22</td><td>-27 49 14.77</td><td>55967.0</td><td>14985</td><td>3.723</td><td>33183</td></tr>\n",
       "<tr><td>441</td><td>0</td><td>AXAF Southern Deep Field - ACIS-I</td><td>2000-05-27T01:32:52</td><td>1.304e-14</td><td>69.774</td><td>03 32 59.85</td><td>-27 47 48.72</td><td>55967.0</td><td>14986</td><td>7.302</td><td>33198</td></tr>\n",
       "<tr><td>441</td><td>0</td><td>AXAF Southern Deep Field - ACIS-I</td><td>2000-05-27T01:32:52</td><td>8.389e-14</td><td>594.61</td><td>03 32 08.67</td><td>-27 47 34.83</td><td>55970.2</td><td>14987</td><td>4.101</td><td>33202</td></tr>\n",
       "<tr><td>441</td><td>0</td><td>AXAF Southern Deep Field - ACIS-I</td><td>2000-05-27T01:32:52</td><td>1.58e-14</td><td>90.888</td><td>03 32 29.98</td><td>-27 45 30.40</td><td>55967.0</td><td>14988</td><td>2.897</td><td>33140</td></tr>\n",
       "<tr><td>441</td><td>0</td><td>AXAF Southern Deep Field - ACIS-I</td><td>2000-05-27T01:32:52</td><td>3.81e-15</td><td>24.617</td><td>03 32 30.22</td><td>-27 45 05.34</td><td>55967.0</td><td>14989</td><td>3.315</td><td>33142</td></tr>\n",
       "<tr><td>441</td><td>0</td><td>AXAF Southern Deep Field - ACIS-I</td><td>2000-05-27T01:32:52</td><td>9.992e-15</td><td>73.295</td><td>03 32 10.93</td><td>-27 44 15.50</td><td>55967.0</td><td>14990</td><td>5.386</td><td>33143</td></tr>\n",
       "<tr><td>441</td><td>0</td><td>AXAF Southern Deep Field - ACIS-I</td><td>2000-05-27T01:32:52</td><td>1.427e-14</td><td>100.45</td><td>03 32 36.71</td><td>-27 44 06.83</td><td>55967.0</td><td>14991</td><td>4.735</td><td>33144</td></tr>\n",
       "<tr><td>441</td><td>0</td><td>AXAF Southern Deep Field - ACIS-I</td><td>2000-05-27T01:32:52</td><td>6.375e-15</td><td>59.919</td><td>03 32 10.52</td><td>-27 43 09.67</td><td>55967.0</td><td>14992</td><td>6.308</td><td>33145</td></tr>\n",
       "<tr><td>...</td><td>...</td><td>...</td><td>...</td><td>...</td><td>...</td><td>...</td><td>...</td><td>...</td><td>...</td><td>...</td><td>...</td></tr>\n",
       "<tr><td>8594</td><td>1</td><td>Chandra Deep Field-South</td><td>2007-11-01T12:10:52</td><td>2.264e-15</td><td>23.458</td><td>03 32 58.54</td><td>-27 50 07.08</td><td>141397.4</td><td>44590</td><td>6.607</td><td>31719</td></tr>\n",
       "<tr><td>8594</td><td>1</td><td>Chandra Deep Field-South</td><td>2007-11-01T12:10:52</td><td>1.223e-15</td><td>32.509</td><td>03 32 02.48</td><td>-27 46 00.78</td><td>141400.5</td><td>44598</td><td>6.462</td><td>33132</td></tr>\n",
       "<tr><td>8594</td><td>1</td><td>Chandra Deep Field-South</td><td>2007-11-01T12:10:52</td><td>2.136e-15</td><td>23.913</td><td>03 32 32.06</td><td>-27 41 55.25</td><td>141381.9</td><td>44600</td><td>6.377</td><td>33210</td></tr>\n",
       "<tr><td>8594</td><td>1</td><td>Chandra Deep Field-South</td><td>2007-11-01T12:10:52</td><td>3.604e-16</td><td>12.814</td><td>03 32 14.53</td><td>-27 54 22.92</td><td>141400.5</td><td>44601</td><td>6.979</td><td>33178</td></tr>\n",
       "<tr><td>8594</td><td>1</td><td>Chandra Deep Field-South</td><td>2007-11-01T12:10:52</td><td>9.348e-15</td><td>64.379</td><td>03 31 52.61</td><td>-27 46 40.60</td><td>141400.5</td><td>44602</td><td>8.389</td><td>33226</td></tr>\n",
       "<tr><td>8594</td><td>1</td><td>Chandra Deep Field-South</td><td>2007-11-01T12:10:52</td><td>3.648e-16</td><td>10.546</td><td>03 33 04.26</td><td>-27 48 58.38</td><td>141397.4</td><td>44603</td><td>7.642</td><td>31739</td></tr>\n",
       "<tr><td>8594</td><td>1</td><td>Chandra Deep Field-South</td><td>2007-11-01T12:10:52</td><td>7.651e-15</td><td>105.91</td><td>03 32 39.83</td><td>-27 35 11.70</td><td>141416.0</td><td>44607</td><td>13.269</td><td>31732</td></tr>\n",
       "<tr><td>8594</td><td>1</td><td>Chandra Deep Field-South</td><td>2007-11-01T12:10:52</td><td>4.949e-15</td><td>32.443</td><td>03 32 46.32</td><td>-27 46 32.31</td><td>141381.9</td><td>44609</td><td>4.039</td><td>33227</td></tr>\n",
       "<tr><td>8594</td><td>1</td><td>Chandra Deep Field-South</td><td>2007-11-01T12:10:52</td><td>4.653e-15</td><td>35.693</td><td>03 32 40.84</td><td>-27 55 45.44</td><td>141400.5</td><td>44611</td><td>7.864</td><td>33197</td></tr>\n",
       "<tr><td>8594</td><td>1</td><td>Chandra Deep Field-South</td><td>2007-11-01T12:10:52</td><td>5.546e-15</td><td>79.046</td><td>03 32 18.43</td><td>-27 37 04.62</td><td>141416.0</td><td>44629</td><td>11.483</td><td>31734</td></tr>\n",
       "</table>"
      ],
      "text/plain": [
       "<Table length=1637>\n",
       "obsid  obi                       targname                      ...  theta   msid\n",
       "int64 int64                      bytes50                       ... float64 int64\n",
       "----- ----- -------------------------------------------------- ... ------- -----\n",
       "  441     0                  AXAF Southern Deep Field - ACIS-I ...   6.883 33150\n",
       "  441     0                  AXAF Southern Deep Field - ACIS-I ...   4.569 33164\n",
       "  441     0                  AXAF Southern Deep Field - ACIS-I ...   3.723 33183\n",
       "  441     0                  AXAF Southern Deep Field - ACIS-I ...   7.302 33198\n",
       "  441     0                  AXAF Southern Deep Field - ACIS-I ...   4.101 33202\n",
       "  441     0                  AXAF Southern Deep Field - ACIS-I ...   2.897 33140\n",
       "  441     0                  AXAF Southern Deep Field - ACIS-I ...   3.315 33142\n",
       "  441     0                  AXAF Southern Deep Field - ACIS-I ...   5.386 33143\n",
       "  441     0                  AXAF Southern Deep Field - ACIS-I ...   4.735 33144\n",
       "  441     0                  AXAF Southern Deep Field - ACIS-I ...   6.308 33145\n",
       "  ...   ...                                                ... ...     ...   ...\n",
       " 8594     1                           Chandra Deep Field-South ...   6.607 31719\n",
       " 8594     1                           Chandra Deep Field-South ...   6.462 33132\n",
       " 8594     1                           Chandra Deep Field-South ...   6.377 33210\n",
       " 8594     1                           Chandra Deep Field-South ...   6.979 33178\n",
       " 8594     1                           Chandra Deep Field-South ...   8.389 33226\n",
       " 8594     1                           Chandra Deep Field-South ...   7.642 31739\n",
       " 8594     1                           Chandra Deep Field-South ...  13.269 31732\n",
       " 8594     1                           Chandra Deep Field-South ...   4.039 33227\n",
       " 8594     1                           Chandra Deep Field-South ...   7.864 33197\n",
       " 8594     1                           Chandra Deep Field-South ...  11.483 31734"
      ]
     },
     "execution_count": 5,
     "metadata": {},
     "output_type": "execute_result"
    }
   ],
   "source": [
    "obs_sources"
   ]
  },
  {
   "cell_type": "code",
   "execution_count": 6,
   "metadata": {},
   "outputs": [
    {
     "data": {
      "text/plain": [
       "['msid', 'name', 'ra', 'dec']"
      ]
     },
     "execution_count": 6,
     "metadata": {},
     "output_type": "execute_result"
    }
   ],
   "source": [
    "master_sources.colnames"
   ]
  },
  {
   "cell_type": "code",
   "execution_count": 7,
   "metadata": {},
   "outputs": [
    {
     "data": {
      "text/plain": [
       "['obsid',\n",
       " 'obi',\n",
       " 'targname',\n",
       " 'gti_obs',\n",
       " 'flux_aper_b',\n",
       " 'src_cnts_aper_b',\n",
       " 'ra_b',\n",
       " 'dec_b',\n",
       " 'livetime',\n",
       " 'posid',\n",
       " 'theta',\n",
       " 'msid']"
      ]
     },
     "execution_count": 7,
     "metadata": {},
     "output_type": "execute_result"
    }
   ],
   "source": [
    "obs_sources.colnames"
   ]
  },
  {
   "cell_type": "code",
   "execution_count": 8,
   "metadata": {},
   "outputs": [
    {
     "data": {
      "text/plain": [
       "209"
      ]
     },
     "execution_count": 8,
     "metadata": {},
     "output_type": "execute_result"
    }
   ],
   "source": [
    "len(master_sources)"
   ]
  },
  {
   "cell_type": "code",
   "execution_count": 9,
   "metadata": {},
   "outputs": [
    {
     "data": {
      "text/plain": [
       "1637"
      ]
     },
     "execution_count": 9,
     "metadata": {},
     "output_type": "execute_result"
    }
   ],
   "source": [
    "len(obs_sources)"
   ]
  },
  {
   "cell_type": "code",
   "execution_count": 10,
   "metadata": {},
   "outputs": [
    {
     "data": {
      "text/plain": [
       "dtype([('msid', '>i8'), ('name', 'S20'), ('ra', 'S12'), ('dec', 'S12')])"
      ]
     },
     "execution_count": 10,
     "metadata": {},
     "output_type": "execute_result"
    }
   ],
   "source": [
    "master_sources.dtype"
   ]
  },
  {
   "cell_type": "code",
   "execution_count": 11,
   "metadata": {},
   "outputs": [
    {
     "data": {
      "text/plain": [
       "dtype([('obsid', '>i8'), ('obi', '>i8'), ('targname', 'S50'), ('gti_obs', 'S19'), ('flux_aper_b', '>f8'), ('src_cnts_aper_b', '>f8'), ('ra_b', 'S12'), ('dec_b', 'S12'), ('livetime', '>f8'), ('posid', '>i8'), ('theta', '>f8'), ('msid', '>i8')])"
      ]
     },
     "execution_count": 11,
     "metadata": {},
     "output_type": "execute_result"
    }
   ],
   "source": [
    "obs_sources.dtype"
   ]
  },
  {
   "cell_type": "markdown",
   "metadata": {},
   "source": [
    "Normally one displays a table in IPython notebook by entering the variable name in a cell and pressing `shift-Enter`.  In a terminal session the default method is using something like `print(my_table)`.  In both cases the `Table` object prefers to display only a screenful of data to prevent having a zillion lines of output if the table is huge.  If you really want to see all the data you can use the [Table.pprint](http://astropy.readthedocs.org/en/stable/api/astropy.table.table.Table.html#astropy.table.table.Table.pprint) method.\n",
    "\n",
    "- Display all the rows of the `master_sources` table using its `pprint()` method.\n",
    "- If you are working in a regular terminal window (not IPython notebook), try the `more()` method as well."
   ]
  },
  {
   "cell_type": "code",
   "execution_count": 12,
   "metadata": {},
   "outputs": [
    {
     "name": "stdout",
     "output_type": "stream",
     "text": [
      " msid          name              ra          dec     \n",
      "------ -------------------- ------------ ------------\n",
      " 11567 CXO J033206.1-275449  03 32 06.10 -27 54 49.73\n",
      " 11570 CXO J033151.1-275051  03 31 51.15 -27 50 51.66\n",
      " 11574 CXO J033236.1-275126  03 32 36.19 -27 51 26.87\n",
      " 11576 CXO J033253.0-275138  03 32 53.09 -27 51 38.28\n",
      " 11580 CXO J033213.4-274856  03 32 13.44 -27 48 56.20\n",
      " 11586 CXO J033218.8-275136  03 32 18.86 -27 51 36.08\n",
      " 11595 CXO J033244.3-275141  03 32 44.32 -27 51 41.71\n",
      " 11600 CXO J033234.7-275535  03 32 34.74 -27 55 35.82\n",
      " 11692 CXO J033153.4-274843  03 31 53.49 -27 48 43.92\n",
      " 11788 CXO J033202.2-275234  03 32 02.29 -27 52 34.42\n",
      " 11791 CXO J033228.0-274332  03 32 28.09 -27 43 32.02\n",
      " 11792 CXO J033233.7-274912  03 32 33.78 -27 49 12.12\n",
      " 11797 CXO J033159.5-275018  03 31 59.58 -27 50 18.30\n",
      " 11802 CXO J033243.4-274612  03 32 43.48 -27 46 12.33\n",
      " 11807 CXO J033243.5-274633  03 32 43.50 -27 46 33.03\n",
      " 11818 CXO J033244.3-275251  03 32 44.31 -27 52 51.25\n",
      " 12009 CXO J033159.6-274948  03 31 59.65 -27 49 48.84\n",
      " 12013 CXO J033309.9-274620  03 33 09.95 -27 46 20.51\n",
      " 12072 CXO J033258.7-274635  03 32 58.70 -27 46 35.06\n",
      " 12113 CXO J033303.6-274331  03 33 03.65 -27 43 31.08\n",
      " 12118 CXO J033250.1-274135  03 32 50.17 -27 41 35.03\n",
      " 12190 CXO J033304.9-274729  03 33 04.96 -27 47 29.26\n",
      " 12219 CXO J033251.8-274229  03 32 51.88 -27 42 29.50\n",
      " 12224 CXO J033309.2-274449  03 33 09.24 -27 44 49.67\n",
      " 12232 CXO J033259.7-274325  03 32 59.75 -27 43 25.77\n",
      " 12267 CXO J033157.4-274216  03 31 57.40 -27 42 16.39\n",
      " 12281 CXO J033202.5-274430  03 32 02.59 -27 44 30.60\n",
      " 12282 CXO J033208.4-274047  03 32 08.40 -27 40 47.07\n",
      " 12285 CXO J033217.1-274137  03 32 17.13 -27 41 37.67\n",
      " 12289 CXO J033210.9-274343  03 32 10.92 -27 43 43.98\n",
      " 12301 CXO J033204.8-274128  03 32 04.86 -27 41 28.23\n",
      " 12307 CXO J033153.9-274226  03 31 53.92 -27 42 26.27\n",
      " 12312 CXO J033206.3-274023  03 32 06.31 -27 40 23.88\n",
      " 12331 CXO J033144.9-274540  03 31 44.99 -27 45 40.72\n",
      " 12337 CXO J033204.3-274245  03 32 04.30 -27 42 45.29\n",
      " 12338 CXO J033208.0-274239  03 32 08.00 -27 42 39.62\n",
      " 12339 CXO J033200.6-274216  03 32 00.68 -27 42 16.11\n",
      " 12340 CXO J033208.2-274154  03 32 08.29 -27 41 54.06\n",
      " 12342 CXO J033204.3-274026  03 32 04.31 -27 40 26.27\n",
      " 12385 CXO J033157.7-274208  03 31 57.75 -27 42 08.68\n",
      " 12399 CXO J033154.4-274159  03 31 54.42 -27 41 59.43\n",
      " 12429 CXO J033205.8-274447  03 32 05.80 -27 44 47.51\n",
      " 12430 CXO J033154.9-274310  03 31 54.92 -27 43 10.82\n",
      " 12456 CXO J033215.8-273955  03 32 15.84 -27 39 55.15\n",
      " 12461 CXO J033216.1-275645  03 32 16.17 -27 56 45.72\n",
      " 12511 CXO J033200.8-275334  03 32 00.84 -27 53 34.05\n",
      " 12518 CXO J033204.3-275648  03 32 04.33 -27 56 48.09\n",
      " 12571 CXO J033158.4-275436  03 31 58.43 -27 54 36.43\n",
      " 12578 CXO J033155.3-275448  03 31 55.37 -27 54 48.37\n",
      " 12581 CXO J033225.0-274101  03 32 25.06 -27 41 01.46\n",
      " 12619 CXO J033151.9-275326  03 31 51.97 -27 53 26.90\n",
      " 12654 CXO J033213.1-275528  03 32 13.17 -27 55 28.48\n",
      " 12730 CXO J033246.4-275413  03 32 46.48 -27 54 13.78\n",
      " 12741 CXO J033303.0-275146  03 33 03.04 -27 51 46.85\n",
      " 12821 CXO J033236.6-275808  03 32 36.69 -27 58 08.96\n",
      " 12928 CXO J033221.4-275550  03 32 21.44 -27 55 50.52\n",
      " 12936 CXO J033206.5-274642  03 32 06.54 -27 46 42.54\n",
      " 13154 CXO J033231.3-273917  03 32 31.31 -27 39 17.81\n",
      " 13169 CXO J033225.0-275514  03 32 25.02 -27 55 14.76\n",
      " 13251 CXO J033249.2-274050  03 32 49.23 -27 40 50.23\n",
      " 13258 CXO J033156.3-275131  03 31 56.39 -27 51 31.72\n",
      " 13263 CXO J033147.7-274829  03 31 47.76 -27 48 29.56\n",
      " 13264 CXO J033245.6-274213  03 32 45.66 -27 42 13.00\n",
      " 13265 CXO J033230.3-273933  03 32 30.39 -27 39 33.84\n",
      " 13267 CXO J033207.1-275229  03 32 07.10 -27 52 29.98\n",
      " 13268 CXO J033229.7-274240  03 32 29.70 -27 42 40.99\n",
      " 13416 CXO J033243.9-275454  03 32 43.97 -27 54 54.29\n",
      " 13418 CXO J033247.5-274300  03 32 47.55 -27 43 00.56\n",
      " 13462 CXO J033242.6-274340  03 32 42.65 -27 43 40.91\n",
      " 13512 CXO J033201.4-274139  03 32 01.49 -27 41 39.28\n",
      " 13515 CXO J033220.7-274528  03 32 20.76 -27 45 28.65\n",
      " 13589 CXO J033240.1-273934  03 32 40.15 -27 39 34.93\n",
      " 13593 CXO J033300.7-275520  03 33 00.75 -27 55 20.72\n",
      " 13596 CXO J033218.3-274537  03 32 18.36 -27 45 37.10\n",
      " 31695 CXO J033259.0-274339  03 32 59.05 -27 43 39.80\n",
      " 31719 CXO J033258.4-275007  03 32 58.48 -27 50 07.48\n",
      " 31720 CXO J033214.8-275103  03 32 14.85 -27 51 03.71\n",
      " 31722 CXO J033232.7-275151  03 32 32.73 -27 51 51.16\n",
      " 31725 CXO J033238.1-273945  03 32 38.12 -27 39 45.27\n",
      " 31735 CXO J033146.6-274552  03 31 46.64 -27 45 52.75\n",
      " 31736 CXO J033248.1-275256  03 32 48.18 -27 52 56.89\n",
      " 31738 CXO J033231.3-275726  03 32 31.37 -27 57 26.33\n",
      " 31739 CXO J033304.2-274857  03 33 04.24 -27 48 57.71\n",
      " 31740 CXO J033220.8-275223  03 32 20.82 -27 52 23.25\n",
      " 31741 CXO J033244.3-274819  03 32 44.38 -27 48 19.15\n",
      " 31742 CXO J033243.0-274621  03 32 43.02 -27 46 21.20\n",
      " 31743 CXO J033219.8-274519  03 32 19.86 -27 45 19.55\n",
      " 31744 CXO J033235.9-274058  03 32 35.94 -27 40 58.65\n",
      " 33022 CXO J033238.0-274626  03 32 38.03 -27 46 26.55\n",
      " 33028 CXO J033207.6-275213  03 32 07.64 -27 52 13.60\n",
      " 33044 CXO J033241.8-275202  03 32 41.85 -27 52 02.57\n",
      " 33102 CXO J033257.5-274549  03 32 57.58 -27 45 49.08\n",
      " 33104 CXO J033229.0-275730  03 32 29.01 -27 57 30.34\n",
      " 33106 CXO J033218.9-274755  03 32 18.99 -27 47 55.73\n",
      " 33107 CXO J033218.2-275241  03 32 18.21 -27 52 41.31\n",
      " 33112 CXO J033229.7-275145  03 32 29.73 -27 51 45.69\n",
      " 33114 CXO J033233.5-275418  03 32 33.58 -27 54 18.78\n",
      " 33115 CXO J033225.4-275109  03 32 25.40 -27 51 09.86\n",
      " 33123 CXO J033205.3-274643  03 32 05.34 -27 46 43.95\n",
      " 33126 CXO J033259.3-274858  03 32 59.31 -27 48 58.82\n",
      " 33127 CXO J033310.1-274842  03 33 10.19 -27 48 42.26\n",
      " 33128 CXO J033244.5-274835  03 32 44.59 -27 48 35.77\n",
      " 33129 CXO J033226.9-274105  03 32 26.99 -27 41 05.37\n",
      " 33130 CXO J033226.4-274035  03 32 26.48 -27 40 35.91\n",
      " 33131 CXO J033222.5-274604  03 32 22.53 -27 46 04.11\n",
      " 33132 CXO J033202.4-274600  03 32 02.45 -27 46 00.55\n",
      " 33133 CXO J033203.6-274604  03 32 03.67 -27 46 04.01\n",
      " 33134 CXO J033157.0-275108  03 31 57.04 -27 51 08.37\n",
      " 33136 CXO J033242.0-275702  03 32 42.03 -27 57 02.12\n",
      " 33137 CXO J033233.0-274547  03 32 33.01 -27 45 47.69\n",
      " 33140 CXO J033229.9-274530  03 32 29.97 -27 45 30.16\n",
      " 33141 CXO J033230.0-274523  03 32 30.05 -27 45 23.81\n",
      " 33142 CXO J033230.2-274504  03 32 30.21 -27 45 04.88\n",
      " 33143 CXO J033210.9-274415  03 32 10.92 -27 44 15.22\n",
      " 33144 CXO J033236.7-274406  03 32 36.71 -27 44 06.69\n",
      " 33145 CXO J033210.5-274309  03 32 10.51 -27 43 09.39\n",
      " 33146 CXO J033217.1-274303  03 32 17.15 -27 43 03.62\n",
      " 33147 CXO J033217.1-275220  03 32 17.17 -27 52 20.83\n",
      " 33148 CXO J033247.8-274232  03 32 47.88 -27 42 32.97\n",
      " 33149 CXO J033238.9-275700  03 32 38.90 -27 57 00.52\n",
      " 33150 CXO J033250.2-275252  03 32 50.24 -27 52 52.16\n",
      " 33151 CXO J033212.9-275236  03 32 12.94 -27 52 36.76\n",
      " 33152 CXO J033214.9-275127  03 32 14.98 -27 51 27.31\n",
      " 33153 CXO J033252.8-275119  03 32 52.88 -27 51 19.86\n",
      " 33154 CXO J033211.3-275213  03 32 11.39 -27 52 13.76\n",
      " 33155 CXO J033229.8-275106  03 32 29.85 -27 51 06.09\n",
      " 33156 CXO J033214.0-275100  03 32 14.00 -27 51 00.79\n",
      " 33157 CXO J033218.3-275055  03 32 18.34 -27 50 55.29\n",
      " 33158 CXO J033158.2-275041  03 31 58.27 -27 50 41.96\n",
      " 33159 CXO J033259.6-275030  03 32 59.67 -27 50 30.30\n",
      " 33160 CXO J033152.4-275017  03 31 52.47 -27 50 17.71\n",
      " 33161 CXO J033206.1-274927  03 32 06.12 -27 49 27.96\n",
      " 33162 CXO J033210.9-274856  03 32 10.96 -27 48 56.33\n",
      " 33163 CXO J033239.6-274850  03 32 39.66 -27 48 50.92\n",
      " 33164 CXO J033237.7-275212  03 32 37.76 -27 52 12.44\n",
      " 33165 CXO J033158.0-274834  03 31 58.09 -27 48 34.11\n",
      " 33166 CXO J033302.6-274823  03 33 02.62 -27 48 23.01\n",
      " 33167 CXO J033208.0-274657  03 32 08.00 -27 46 57.53\n",
      " 33168 CXO J033201.4-274647  03 32 01.41 -27 46 47.36\n",
      " 33169 CXO J033211.7-274628  03 32 11.77 -27 46 28.37\n",
      " 33170 CXO J033239.7-274611  03 32 39.72 -27 46 11.63\n",
      " 33171 CXO J033303.6-274518  03 33 03.62 -27 45 18.66\n",
      " 33172 CXO J033239.0-274439  03 32 39.03 -27 44 39.57\n",
      " 33173 CXO J033241.8-274400  03 32 41.87 -27 44 00.20\n",
      " 33174 CXO J033244.4-274940  03 32 44.45 -27 49 40.28\n",
      " 33175 CXO J033213.2-274241  03 32 13.23 -27 42 41.20\n",
      " 33176 CXO J033225.1-274219  03 32 25.15 -27 42 19.07\n",
      " 33177 CXO J033234.9-275511  03 32 34.95 -27 55 11.36\n",
      " 33178 CXO J033214.5-275421  03 32 14.57 -27 54 21.45\n",
      " 33179 CXO J033205.1-275355  03 32 05.17 -27 53 55.09\n",
      " 33180 CXO J033200.5-275353  03 32 00.55 -27 53 53.13\n",
      " 33181 CXO J033203.8-275329  03 32 03.89 -27 53 29.21\n",
      " 33182 CXO J033235.2-275317  03 32 35.21 -27 53 17.93\n",
      " 33183 CXO J033243.2-274914  03 32 43.22 -27 49 14.39\n",
      " 33184 CXO J033259.7-274626  03 32 59.77 -27 46 26.42\n",
      " 33185 CXO J033301.5-274542  03 33 01.57 -27 45 42.57\n",
      " 33186 CXO J033254.7-274503  03 32 54.72 -27 45 03.34\n",
      " 33187 CXO J033209.4-274807  03 32 09.45 -27 48 07.02\n",
      " 33188 CXO J033201.6-274327  03 32 01.60 -27 43 27.42\n",
      " 33189 CXO J033200.3-274320  03 32 00.38 -27 43 20.06\n",
      " 33190 CXO J033225.6-274306  03 32 25.67 -27 43 06.05\n",
      " 33191 CXO J033214.9-274225  03 32 14.98 -27 42 25.23\n",
      " 33192 CXO J033227.6-274145  03 32 27.62 -27 41 45.26\n",
      " 33193 CXO J033226.7-274146  03 32 26.76 -27 41 46.05\n",
      " 33194 CXO J033224.2-274126  03 32 24.25 -27 41 26.81\n",
      " 33195 CXO J033211.0-274054  03 32 11.01 -27 40 54.29\n",
      " 33196 CXO J033224.8-275600  03 32 24.85 -27 56 00.17\n",
      " 33197 CXO J033240.8-275546  03 32 40.85 -27 55 46.61\n",
      " 33198 CXO J033259.8-274748  03 32 59.85 -27 47 48.17\n",
      " 33199 CXO J033249.6-275453  03 32 49.66 -27 54 53.98\n",
      " 33200 CXO J033249.1-275504  03 32 49.14 -27 55 04.31\n",
      " 33201 CXO J033203.0-274450  03 32 03.07 -27 44 50.30\n",
      " 33202 CXO J033208.6-274734  03 32 08.66 -27 47 34.62\n",
      " 33203 CXO J033226.6-274014  03 32 26.65 -27 40 13.99\n",
      " 33204 CXO J033216.2-273930  03 32 16.21 -27 39 30.78\n",
      " 33205 CXO J033150.4-275152  03 31 50.41 -27 51 52.06\n",
      " 33206 CXO J033307.6-275127  03 33 07.60 -27 51 27.13\n",
      " 33207 CXO J033147.9-275045  03 31 47.96 -27 50 45.97\n",
      " 33208 CXO J033242.8-274702  03 32 42.82 -27 47 02.69\n",
      " 33209 CXO J033229.8-274424  03 32 29.83 -27 44 24.43\n",
      " 33210 CXO J033232.1-274155  03 32 32.10 -27 41 55.49\n",
      " 33211 CXO J033247.0-275334  03 32 47.07 -27 53 34.51\n",
      " 33212 CXO J033152.3-274753  03 31 52.30 -27 47 53.05\n",
      " 33213 CXO J033243.0-274845  03 32 43.02 -27 48 45.26\n",
      " 33214 CXO J033246.8-274212  03 32 46.80 -27 42 12.96\n",
      " 33218 CXO J033220.4-274732  03 32 20.47 -27 47 32.59\n",
      " 33219 CXO J033255.4-274751  03 32 55.49 -27 47 51.70\n",
      " 33220 CXO J033204.4-274643  03 32 04.49 -27 46 43.23\n",
      " 33221 CXO J033244.0-274635  03 32 44.01 -27 46 35.78\n",
      " 33222 CXO J033228.8-274355  03 32 28.81 -27 43 55.97\n",
      " 33223 CXO J033233.3-274236  03 32 33.33 -27 42 36.22\n",
      " 33225 CXO J033305.8-274649  03 33 05.89 -27 46 49.79\n",
      " 33226 CXO J033152.5-274642  03 31 52.54 -27 46 42.85\n",
      " 33227 CXO J033246.3-274632  03 32 46.33 -27 46 32.30\n",
      " 33228 CXO J033239.0-274602  03 32 39.08 -27 46 02.08\n",
      " 33229 CXO J033220.0-274447  03 32 20.05 -27 44 47.25\n",
      " 33230 CXO J033238.3-275552  03 32 38.33 -27 55 52.82\n",
      " 33231 CXO J033201.1-275033  03 32 01.12 -27 50 33.13\n",
      " 33232 CXO J033225.9-274514  03 32 25.96 -27 45 14.82\n",
      " 33233 CXO J033230.0-274404  03 32 30.01 -27 44 04.50\n",
      " 33234 CXO J033237.4-274000  03 32 37.44 -27 40 00.74\n",
      " 33235 CXO J033149.4-275034  03 31 49.46 -27 50 34.20\n",
      " 33236 CXO J033149.4-274634  03 31 49.45 -27 46 34.46\n",
      " 33239 CXO J033222.7-275224  03 32 22.76 -27 52 24.10\n",
      " 33240 CXO J033226.5-274801  03 32 26.57 -27 48 01.82\n",
      " 37759 CXO J033309.5-274603  03 33 09.52 -27 46 03.30\n",
      "148105 CXO J033234.2-273906  03 32 34.21 -27 39 06.46\n",
      "148106 CXO J033234.4-273913  03 32 34.44 -27 39 13.28\n",
      "148107 CXO J033247.9-274148  03 32 47.91 -27 41 48.03\n"
     ]
    }
   ],
   "source": [
    "master_sources.pprint(max_lines=-1)"
   ]
  },
  {
   "cell_type": "markdown",
   "metadata": {},
   "source": [
    "### Modifying tables"
   ]
  },
  {
   "cell_type": "markdown",
   "metadata": {},
   "source": [
    "For our analysis we don't actually need the `obi` (observation interval) column in the `obs_sources` table.\n",
    "\n",
    "- Remove the `obi` column from the `obs_sources` table.\n",
    "\n",
    "The `gti_obs` column name is a bit obscure (GTI is a good time interval, FWIW).\n",
    "\n",
    "- Rename the `gti_obs` column to `obs_date`.\n",
    "\n",
    "It would be nice to have a count rate in addition to the source counts.\n",
    "\n",
    "- Add a new column `src_rate_aper_b` which is the source counts divided by observation duration in sec.\n",
    "\n",
    "Some of the sources have a negative net flux in the broad band"
   ]
  },
  {
   "cell_type": "code",
   "execution_count": 13,
   "metadata": {},
   "outputs": [],
   "source": [
    "obs_sources.remove_column('obi')"
   ]
  },
  {
   "cell_type": "code",
   "execution_count": 14,
   "metadata": {},
   "outputs": [],
   "source": [
    "obs_sources.rename_column('gti_obs', 'obs_date')"
   ]
  },
  {
   "cell_type": "code",
   "execution_count": 15,
   "metadata": {},
   "outputs": [],
   "source": [
    "obs_sources['src_rate_aper_b'] = obs_sources['src_cnts_aper_b'] / obs_sources['livetime']"
   ]
  },
  {
   "cell_type": "code",
   "execution_count": 16,
   "metadata": {},
   "outputs": [
    {
     "data": {
      "text/plain": [
       "['obsid',\n",
       " 'targname',\n",
       " 'obs_date',\n",
       " 'flux_aper_b',\n",
       " 'src_cnts_aper_b',\n",
       " 'ra_b',\n",
       " 'dec_b',\n",
       " 'livetime',\n",
       " 'posid',\n",
       " 'theta',\n",
       " 'msid',\n",
       " 'src_rate_aper_b']"
      ]
     },
     "execution_count": 16,
     "metadata": {},
     "output_type": "execute_result"
    }
   ],
   "source": [
    "obs_sources.colnames"
   ]
  },
  {
   "cell_type": "markdown",
   "metadata": {},
   "source": [
    "### Looking at the observation source data"
   ]
  },
  {
   "cell_type": "markdown",
   "metadata": {},
   "source": [
    "For each source detected in an individual observation (in the `obs_sources` table), let's look at the source flux values.\n",
    "\n",
    "- Use the matplotlib [`hist()`]( http://matplotlib.org/api/pyplot_api.html?highlight=pyplot.hist#matplotlib.pyplot.hist) function to make a histogram of the source fluxes.  Since the fluxes vary by orders of magnitude,\n",
    "  use the `numpy.log10` to put the fluxes in log space.\n",
    "  \n",
    "*HINT*: if you did not start notebook with `--pylab=inline` then try:\n",
    "```\n",
    "import matplotlib.pyplot as plt\n",
    "%matplotlib inline\n",
    "```\n",
    "\n",
    "- Also make the same plot but using only sources within 4 arcmin of the center.  *HINT*: use a boolean mask to select values of `theta` that are less than 4.0."
   ]
  },
  {
   "cell_type": "code",
   "execution_count": 17,
   "metadata": {},
   "outputs": [
    {
     "data": {
      "image/png": "[encoded data removed]",
      "text/plain": [
       "<Figure size 432x288 with 1 Axes>"
      ]
     },
     "metadata": {
      "needs_background": "light"
     },
     "output_type": "display_data"
    }
   ],
   "source": [
    "vals, bins, patches = plt.hist(np.log10(obs_sources['flux_aper_b']), bins=50)\n",
    "ok = obs_sources['theta'] < 4\n",
    "out = plt.hist(np.log10(obs_sources['flux_aper_b'][ok]), bins=bins)"
   ]
  },
  {
   "cell_type": "markdown",
   "metadata": {},
   "source": [
    "### Join the master_sources and obs_sources tables"
   ]
  },
  {
   "cell_type": "markdown",
   "metadata": {},
   "source": [
    "The `master_sources` and `obs_sources` tables share a common `msid` column. What we now want is to join the master RA and Dec positions and master source names with the individual observations table.\n",
    "\n",
    "- Use the [table.join()](http://astropy.readthedocs.org/en/stable/table/operations.html#join) function to make a single table called `sources` that has the master RA, Dec, and name included for each observation source.\n",
    "\n",
    "*HINT*: the defaults for `keys` and `join_type='inner'`  are correct in this case, so the simplest possible call to `join()` will work!\n",
    "\n",
    "- *Intermediate*: Is the length of the new `sources` the same as `obs_sources`?  What happened?\n",
    "\n",
    "- *Advanced*: Make a scatter plot of the RA (x-axis) and Dec (y-axis) difference between the master source position and the observation source position.  You'll need to use `coordinates`!"
   ]
  },
  {
   "cell_type": "code",
   "execution_count": 18,
   "metadata": {},
   "outputs": [],
   "source": [
    "from astropy.table import join"
   ]
  },
  {
   "cell_type": "code",
   "execution_count": 19,
   "metadata": {},
   "outputs": [],
   "source": [
    "sources = join(master_sources, obs_sources)"
   ]
  },
  {
   "cell_type": "code",
   "execution_count": 20,
   "metadata": {},
   "outputs": [
    {
     "name": "stdout",
     "output_type": "stream",
     "text": [
      "1555 1637\n"
     ]
    }
   ],
   "source": [
    "print(len(sources), len(obs_sources))"
   ]
  },
  {
   "cell_type": "code",
   "execution_count": 21,
   "metadata": {},
   "outputs": [],
   "source": [
    "# Some of the obs_sources had an `msid` value that is not in the `master_sources` table"
   ]
  },
  {
   "cell_type": "code",
   "execution_count": 22,
   "metadata": {},
   "outputs": [],
   "source": [
    "from astropy.coordinates import SkyCoord"
   ]
  },
  {
   "cell_type": "code",
   "execution_count": 23,
   "metadata": {},
   "outputs": [],
   "source": [
    "master_c = SkyCoord(sources['ra'], sources['dec'], unit='hourangle,deg', frame='icrs')\n",
    "obs_c = SkyCoord(sources['ra_b'], sources['dec_b'], unit='hourangle,deg', frame='icrs')"
   ]
  },
  {
   "cell_type": "code",
   "execution_count": 24,
   "metadata": {},
   "outputs": [
    {
     "data": {
      "text/plain": [
       "[<matplotlib.lines.Line2D at 0x1199e7510>]"
      ]
     },
     "execution_count": 24,
     "metadata": {},
     "output_type": "execute_result"
    },
    {
     "data": {
      "image/png": "[encoded data removed]",
      "text/plain": [
       "<Figure size 432x288 with 1 Axes>"
      ]
     },
     "metadata": {
      "needs_background": "light"
     },
     "output_type": "display_data"
    }
   ],
   "source": [
    "plt.plot((master_c.ra - obs_c.ra).value, (master_c.dec - obs_c.dec).value, '.')"
   ]
  },
  {
   "cell_type": "markdown",
   "metadata": {},
   "source": [
    "### Grouped properties of `sources`"
   ]
  },
  {
   "cell_type": "markdown",
   "metadata": {},
   "source": [
    "Finally, we can look at the variability properties of sources in the CDFS using the [`group_by()`](http://astropy.readthedocs.org/en/stable/table/operations.html#id2) functionality.  \n",
    "\n",
    "This method makes a new table in which all the sources with identical master ID are next to each other.\n",
    "\n",
    "- Make a new table `g_sources` which is the `sources` table grouped by the `msid` key using the `group_by()` method.\n",
    "\n",
    "The `g_sources` table is just a regular table with all the `sources` in a particular order.  The attribute `g_sources.groups` is an object that provides access to the `msid` sub-groups.  You can access the $i^{th}$ group with `g_sources.groups[i]`.\n",
    "\n",
    "In addition the `g_sources.groups.indices` attribute is an array with the indicies of the group boundaries.\n",
    "\n",
    "- Using `np.diff()` find the number of repeat observations of each master sources.  *HINT*: use the indices, Luke.\n",
    "- Print the 50th group and note which columns are the same for all group members and which are different.  Does this make sense?  In these few observations how many different target names were provided by observers?"
   ]
  },
  {
   "cell_type": "code",
   "execution_count": 25,
   "metadata": {},
   "outputs": [],
   "source": [
    "g_sources = sources.group_by('msid')"
   ]
  },
  {
   "cell_type": "code",
   "execution_count": 26,
   "metadata": {},
   "outputs": [
    {
     "data": {
      "text/plain": [
       "array([ 1,  1,  1,  1,  1,  1,  1,  1,  1,  1,  1,  1,  1,  1,  1,  3,  1,\n",
       "        1,  1,  1,  1,  1,  1,  1,  1,  1,  5,  3,  1,  1,  2,  1,  1,  1,\n",
       "        1,  3,  2,  1,  1,  1,  1,  2,  1,  1,  2,  1,  4,  2,  1, 18,  5,\n",
       "        4,  9, 11,  3,  7,  2,  2,  1,  1,  1,  2,  1, 14,  7, 15,  1, 10,\n",
       "       12,  2,  2,  1,  1,  2, 17, 18,  5, 21, 21, 14, 15, 18,  4, 12, 16,\n",
       "       21, 16, 21, 21, 21, 21, 20, 19, 21, 21, 21, 18, 21, 21, 20, 11, 20,\n",
       "       14, 21,  8, 13,  6, 16, 18, 21, 11, 20, 14, 21, 11, 14, 21,  7,  7,\n",
       "       13, 21, 21, 14,  5, 11,  6, 14,  7, 20, 18, 13,  6, 19, 20, 20, 21,\n",
       "       11, 17,  6, 17,  9, 17, 10, 21,  8,  4,  7, 21, 20, 13,  6, 12,  8,\n",
       "       10,  4,  5,  5,  2,  4,  4, 11,  3,  4,  6,  6,  5,  3, 14,  9, 16,\n",
       "        3,  2,  1,  5,  5,  7,  1,  5,  1,  1,  3, 15])"
      ]
     },
     "execution_count": 26,
     "metadata": {},
     "output_type": "execute_result"
    }
   ],
   "source": [
    "np.diff(g_sources.groups.indices)"
   ]
  },
  {
   "cell_type": "code",
   "execution_count": 27,
   "metadata": {},
   "outputs": [
    {
     "data": {
      "text/html": [
       "<i>Table length=5</i>\n",
       "<table id=\"table4725350992\" class=\"table-striped table-bordered table-condensed\">\n",
       "<thead><tr><th>msid</th><th>name</th><th>ra</th><th>dec</th><th>obsid</th><th>targname</th><th>obs_date</th><th>flux_aper_b</th><th>src_cnts_aper_b</th><th>ra_b</th><th>dec_b</th><th>livetime</th><th>posid</th><th>theta</th><th>src_rate_aper_b</th></tr></thead>\n",
       "<thead><tr><th>int64</th><th>bytes20</th><th>bytes12</th><th>bytes12</th><th>int64</th><th>bytes50</th><th>bytes19</th><th>float64</th><th>float64</th><th>bytes12</th><th>bytes12</th><th>float64</th><th>int64</th><th>float64</th><th>float64</th></tr></thead>\n",
       "<tr><td>31719</td><td>CXO J033258.4-275007</td><td>03 32 58.48</td><td>-27 50 07.48</td><td>2405</td><td>AXAF SOUTHERN DEEP F</td><td>2000-12-11T08:24:19</td><td>1.994e-15</td><td>17.255</td><td>03 32 58.51</td><td>-27 50 07.28</td><td>59629.5</td><td>15119</td><td>6.712</td><td>0.000289370194283031</td></tr>\n",
       "<tr><td>31719</td><td>CXO J033258.4-275007</td><td>03 32 58.48</td><td>-27 50 07.48</td><td>582</td><td>AXAF Southern Deep Field</td><td>2000-06-03T02:59:50</td><td>4.272e-15</td><td>24.844</td><td>03 32 58.48</td><td>-27 50 09.86</td><td>130584.4</td><td>15461</td><td>7.209</td><td>0.0001902524344408674</td></tr>\n",
       "<tr><td>31719</td><td>CXO J033258.4-275007</td><td>03 32 58.48</td><td>-27 50 07.48</td><td>8596</td><td>Chandra Deep Field-South</td><td>2007-10-24T13:44:48</td><td>6.401e-16</td><td>15.749</td><td>03 32 58.29</td><td>-27 50 04.95</td><td>115110.3</td><td>17863</td><td>6.605</td><td>0.00013681660112083803</td></tr>\n",
       "<tr><td>31719</td><td>CXO J033258.4-275007</td><td>03 32 58.48</td><td>-27 50 07.48</td><td>8595</td><td>Chandra Deep Field-South</td><td>2007-10-19T14:33:54</td><td>1.342e-15</td><td>22.475</td><td>03 32 58.50</td><td>-27 50 07.45</td><td>115413.1</td><td>17633</td><td>6.731</td><td>0.00019473525968889148</td></tr>\n",
       "<tr><td>31719</td><td>CXO J033258.4-275007</td><td>03 32 58.48</td><td>-27 50 07.48</td><td>8594</td><td>Chandra Deep Field-South</td><td>2007-11-01T12:10:52</td><td>2.264e-15</td><td>23.458</td><td>03 32 58.54</td><td>-27 50 07.08</td><td>141397.4</td><td>44590</td><td>6.607</td><td>0.00016590121176202673</td></tr>\n",
       "</table>"
      ],
      "text/plain": [
       "<Table length=5>\n",
       " msid         name              ra      ... posid  theta     src_rate_aper_b    \n",
       "int64       bytes20          bytes12    ... int64 float64        float64        \n",
       "----- -------------------- ------------ ... ----- ------- ----------------------\n",
       "31719 CXO J033258.4-275007  03 32 58.48 ... 15119   6.712   0.000289370194283031\n",
       "31719 CXO J033258.4-275007  03 32 58.48 ... 15461   7.209  0.0001902524344408674\n",
       "31719 CXO J033258.4-275007  03 32 58.48 ... 17863   6.605 0.00013681660112083803\n",
       "31719 CXO J033258.4-275007  03 32 58.48 ... 17633   6.731 0.00019473525968889148\n",
       "31719 CXO J033258.4-275007  03 32 58.48 ... 44590   6.607 0.00016590121176202673"
      ]
     },
     "execution_count": 27,
     "metadata": {},
     "output_type": "execute_result"
    }
   ],
   "source": [
    "g_sources.groups[50]"
   ]
  },
  {
   "cell_type": "markdown",
   "metadata": {},
   "source": [
    "#### Aggregation"
   ]
  },
  {
   "cell_type": "markdown",
   "metadata": {},
   "source": [
    "The real power of grouping comes in the ability to create aggregate values for each of the groups, for instance the mean flux for each unique source.  This is done with the [`aggregate()`](http://astropy.readthedocs.org/en/stable/table/operations.html#aggregation) method, which takes a function reference as its input.  This function must take as input an array of values and return a single value.\n",
    "\n",
    "Aggregate returns a new table that has a length equal to the number of groups.\n",
    "\n",
    "- Compute the mean of all columns for each unique source (i.e. each group) using `aggregate` and the `np.mean` function.  Call this table `g_sources_mean`.\n",
    "- Notice that aggregation cannot form a mean for certain columns and these are dropped from the output.  Use the `join()` function to restore the `master_sources` information to `g_sources_mean`."
   ]
  },
  {
   "cell_type": "code",
   "execution_count": 28,
   "metadata": {},
   "outputs": [
    {
     "name": "stderr",
     "output_type": "stream",
     "text": [
      "WARNING: Cannot aggregate column 'name' with type '|S20' [astropy.table.groups]\n",
      "WARNING: Cannot aggregate column 'ra' with type '|S12' [astropy.table.groups]\n",
      "WARNING: Cannot aggregate column 'dec' with type '|S12' [astropy.table.groups]\n",
      "WARNING: Cannot aggregate column 'targname' with type '|S50' [astropy.table.groups]\n",
      "WARNING: Cannot aggregate column 'obs_date' with type '|S19' [astropy.table.groups]\n",
      "WARNING: Cannot aggregate column 'ra_b' with type '|S12' [astropy.table.groups]\n",
      "WARNING: Cannot aggregate column 'dec_b' with type '|S12' [astropy.table.groups]\n"
     ]
    }
   ],
   "source": [
    "g_sources_mean = g_sources.groups.aggregate(np.mean)"
   ]
  },
  {
   "cell_type": "code",
   "execution_count": 29,
   "metadata": {},
   "outputs": [
    {
     "data": {
      "text/html": [
       "<i>Table length=182</i>\n",
       "<table id=\"table4725274960\" class=\"table-striped table-bordered table-condensed\">\n",
       "<thead><tr><th>msid</th><th>obsid</th><th>flux_aper_b</th><th>src_cnts_aper_b</th><th>livetime</th><th>posid</th><th>theta</th><th>src_rate_aper_b</th></tr></thead>\n",
       "<thead><tr><th>int64</th><th>float64</th><th>float64</th><th>float64</th><th>float64</th><th>float64</th><th>float64</th><th>float64</th></tr></thead>\n",
       "<tr><td>11567</td><td>582.0</td><td>4.84e-15</td><td>35.507</td><td>130584.4</td><td>15460.0</td><td>7.987</td><td>0.00027190843622974873</td></tr>\n",
       "<tr><td>11570</td><td>582.0</td><td>5.134e-15</td><td>55.591</td><td>130584.4</td><td>15468.0</td><td>8.321</td><td>0.0004257093496619811</td></tr>\n",
       "<tr><td>11574</td><td>582.0</td><td>1.371e-15</td><td>17.829</td><td>130584.4</td><td>15498.0</td><td>3.743</td><td>0.00013653238824851973</td></tr>\n",
       "<tr><td>11576</td><td>582.0</td><td>1.136e-15</td><td>10.197</td><td>130584.4</td><td>15502.0</td><td>6.666</td><td>7.808742851366625e-05</td></tr>\n",
       "<tr><td>11580</td><td>582.0</td><td>2.37e-15</td><td>16.011</td><td>130584.4</td><td>15509.0</td><td>3.057</td><td>0.0001226103577456419</td></tr>\n",
       "<tr><td>11586</td><td>582.0</td><td>2.092e-15</td><td>15.765</td><td>130584.4</td><td>15382.0</td><td>3.75</td><td>0.00012072651863469144</td></tr>\n",
       "<tr><td>11595</td><td>582.0</td><td>9.126e-16</td><td>25.018</td><td>130584.4</td><td>15418.0</td><td>5.117</td><td>0.00019158490600714942</td></tr>\n",
       "<tr><td>11600</td><td>582.0</td><td>3.446e-15</td><td>23.171</td><td>130584.4</td><td>15431.0</td><td>7.488</td><td>0.00017744079690989122</td></tr>\n",
       "<tr><td>11692</td><td>1672.0</td><td>2.476e-15</td><td>17.303</td><td>95138.1</td><td>15596.0</td><td>7.792</td><td>0.00018187245698621267</td></tr>\n",
       "<tr><td>11788</td><td>2312.0</td><td>2.024e-16</td><td>20.78</td><td>123689.2</td><td>15863.0</td><td>6.978</td><td>0.00016800173337688337</td></tr>\n",
       "<tr><td>...</td><td>...</td><td>...</td><td>...</td><td>...</td><td>...</td><td>...</td><td>...</td></tr>\n",
       "<tr><td>33231</td><td>2313.0</td><td>1.486e-15</td><td>14.39</td><td>130401.7</td><td>44388.0</td><td>6.259</td><td>0.00011035132210699708</td></tr>\n",
       "<tr><td>33232</td><td>4105.0</td><td>1.802e-15</td><td>16.043400000000002</td><td>114748.98000000001</td><td>27344.2</td><td>3.1536</td><td>0.00015063014690995196</td></tr>\n",
       "<tr><td>33233</td><td>5932.2</td><td>1.91088e-15</td><td>24.2146</td><td>120034.51999999999</td><td>22973.8</td><td>4.2568</td><td>0.00020107695367132085</td></tr>\n",
       "<tr><td>33234</td><td>6971.571428571428</td><td>5.1665714285714285e-15</td><td>40.44528571428572</td><td>84860.6</td><td>17128.285714285714</td><td>8.479857142857142</td><td>0.0004919747628477691</td></tr>\n",
       "<tr><td>33235</td><td>2313.0</td><td>1.115e-15</td><td>37.418</td><td>130401.7</td><td>44398.0</td><td>8.744</td><td>0.00028694411192492123</td></tr>\n",
       "<tr><td>33236</td><td>4694.8</td><td>6.768799999999999e-15</td><td>43.9302</td><td>110817.67999999998</td><td>22787.0</td><td>8.804</td><td>0.0003980155859789369</td></tr>\n",
       "<tr><td>33239</td><td>2313.0</td><td>1.776e-15</td><td>13.234</td><td>130407.9</td><td>44316.0</td><td>3.938</td><td>0.00010148158202072114</td></tr>\n",
       "<tr><td>33240</td><td>2313.0</td><td>8.431e-16</td><td>11.136</td><td>130398.6</td><td>44286.0</td><td>0.697</td><td>8.539968987397103e-05</td></tr>\n",
       "<tr><td>37759</td><td>2074.3333333333335</td><td>4.349666666666667e-15</td><td>32.363</td><td>116558.59999999999</td><td>25248.0</td><td>9.447666666666665</td><td>0.0002843649264516083</td></tr>\n",
       "<tr><td>148107</td><td>7432.0</td><td>1.798826666666667e-14</td><td>145.46313333333333</td><td>85670.47333333333</td><td>20396.066666666666</td><td>7.700333333333333</td><td>0.0016822626254727009</td></tr>\n",
       "</table>"
      ],
      "text/plain": [
       "<Table length=182>\n",
       " msid        obsid        ...       theta          src_rate_aper_b    \n",
       "int64       float64       ...      float64             float64        \n",
       "------ ------------------ ... ----------------- ----------------------\n",
       " 11567              582.0 ...             7.987 0.00027190843622974873\n",
       " 11570              582.0 ...             8.321  0.0004257093496619811\n",
       " 11574              582.0 ...             3.743 0.00013653238824851973\n",
       " 11576              582.0 ...             6.666  7.808742851366625e-05\n",
       " 11580              582.0 ...             3.057  0.0001226103577456419\n",
       " 11586              582.0 ...              3.75 0.00012072651863469144\n",
       " 11595              582.0 ...             5.117 0.00019158490600714942\n",
       " 11600              582.0 ...             7.488 0.00017744079690989122\n",
       " 11692             1672.0 ...             7.792 0.00018187245698621267\n",
       " 11788             2312.0 ...             6.978 0.00016800173337688337\n",
       "   ...                ... ...               ...                    ...\n",
       " 33231             2313.0 ...             6.259 0.00011035132210699708\n",
       " 33232             4105.0 ...            3.1536 0.00015063014690995196\n",
       " 33233             5932.2 ...            4.2568 0.00020107695367132085\n",
       " 33234  6971.571428571428 ... 8.479857142857142  0.0004919747628477691\n",
       " 33235             2313.0 ...             8.744 0.00028694411192492123\n",
       " 33236             4694.8 ...             8.804  0.0003980155859789369\n",
       " 33239             2313.0 ...             3.938 0.00010148158202072114\n",
       " 33240             2313.0 ...             0.697  8.539968987397103e-05\n",
       " 37759 2074.3333333333335 ... 9.447666666666665  0.0002843649264516083\n",
       "148107             7432.0 ... 7.700333333333333  0.0016822626254727009"
      ]
     },
     "execution_count": 29,
     "metadata": {},
     "output_type": "execute_result"
    }
   ],
   "source": [
    "g_sources_mean"
   ]
  },
  {
   "cell_type": "code",
   "execution_count": 30,
   "metadata": {},
   "outputs": [],
   "source": [
    "g_sources_mean = join(master_sources, g_sources_mean)"
   ]
  },
  {
   "cell_type": "code",
   "execution_count": 31,
   "metadata": {},
   "outputs": [
    {
     "data": {
      "text/html": [
       "<i>Table length=182</i>\n",
       "<table id=\"table4725276112\" class=\"table-striped table-bordered table-condensed\">\n",
       "<thead><tr><th>msid</th><th>name</th><th>ra</th><th>dec</th><th>obsid</th><th>flux_aper_b</th><th>src_cnts_aper_b</th><th>livetime</th><th>posid</th><th>theta</th><th>src_rate_aper_b</th></tr></thead>\n",
       "<thead><tr><th>int64</th><th>bytes20</th><th>bytes12</th><th>bytes12</th><th>float64</th><th>float64</th><th>float64</th><th>float64</th><th>float64</th><th>float64</th><th>float64</th></tr></thead>\n",
       "<tr><td>11567</td><td>CXO J033206.1-275449</td><td>03 32 06.10</td><td>-27 54 49.73</td><td>582.0</td><td>4.84e-15</td><td>35.507</td><td>130584.4</td><td>15460.0</td><td>7.987</td><td>0.00027190843622974873</td></tr>\n",
       "<tr><td>11570</td><td>CXO J033151.1-275051</td><td>03 31 51.15</td><td>-27 50 51.66</td><td>582.0</td><td>5.134e-15</td><td>55.591</td><td>130584.4</td><td>15468.0</td><td>8.321</td><td>0.0004257093496619811</td></tr>\n",
       "<tr><td>11574</td><td>CXO J033236.1-275126</td><td>03 32 36.19</td><td>-27 51 26.87</td><td>582.0</td><td>1.371e-15</td><td>17.829</td><td>130584.4</td><td>15498.0</td><td>3.743</td><td>0.00013653238824851973</td></tr>\n",
       "<tr><td>11576</td><td>CXO J033253.0-275138</td><td>03 32 53.09</td><td>-27 51 38.28</td><td>582.0</td><td>1.136e-15</td><td>10.197</td><td>130584.4</td><td>15502.0</td><td>6.666</td><td>7.808742851366625e-05</td></tr>\n",
       "<tr><td>11580</td><td>CXO J033213.4-274856</td><td>03 32 13.44</td><td>-27 48 56.20</td><td>582.0</td><td>2.37e-15</td><td>16.011</td><td>130584.4</td><td>15509.0</td><td>3.057</td><td>0.0001226103577456419</td></tr>\n",
       "<tr><td>11586</td><td>CXO J033218.8-275136</td><td>03 32 18.86</td><td>-27 51 36.08</td><td>582.0</td><td>2.092e-15</td><td>15.765</td><td>130584.4</td><td>15382.0</td><td>3.75</td><td>0.00012072651863469144</td></tr>\n",
       "<tr><td>11595</td><td>CXO J033244.3-275141</td><td>03 32 44.32</td><td>-27 51 41.71</td><td>582.0</td><td>9.126e-16</td><td>25.018</td><td>130584.4</td><td>15418.0</td><td>5.117</td><td>0.00019158490600714942</td></tr>\n",
       "<tr><td>11600</td><td>CXO J033234.7-275535</td><td>03 32 34.74</td><td>-27 55 35.82</td><td>582.0</td><td>3.446e-15</td><td>23.171</td><td>130584.4</td><td>15431.0</td><td>7.488</td><td>0.00017744079690989122</td></tr>\n",
       "<tr><td>11692</td><td>CXO J033153.4-274843</td><td>03 31 53.49</td><td>-27 48 43.92</td><td>1672.0</td><td>2.476e-15</td><td>17.303</td><td>95138.1</td><td>15596.0</td><td>7.792</td><td>0.00018187245698621267</td></tr>\n",
       "<tr><td>11788</td><td>CXO J033202.2-275234</td><td>03 32 02.29</td><td>-27 52 34.42</td><td>2312.0</td><td>2.024e-16</td><td>20.78</td><td>123689.2</td><td>15863.0</td><td>6.978</td><td>0.00016800173337688337</td></tr>\n",
       "<tr><td>...</td><td>...</td><td>...</td><td>...</td><td>...</td><td>...</td><td>...</td><td>...</td><td>...</td><td>...</td><td>...</td></tr>\n",
       "<tr><td>33231</td><td>CXO J033201.1-275033</td><td>03 32 01.12</td><td>-27 50 33.13</td><td>2313.0</td><td>1.486e-15</td><td>14.39</td><td>130401.7</td><td>44388.0</td><td>6.259</td><td>0.00011035132210699708</td></tr>\n",
       "<tr><td>33232</td><td>CXO J033225.9-274514</td><td>03 32 25.96</td><td>-27 45 14.82</td><td>4105.0</td><td>1.802e-15</td><td>16.043400000000002</td><td>114748.98000000001</td><td>27344.2</td><td>3.1536</td><td>0.00015063014690995196</td></tr>\n",
       "<tr><td>33233</td><td>CXO J033230.0-274404</td><td>03 32 30.01</td><td>-27 44 04.50</td><td>5932.2</td><td>1.91088e-15</td><td>24.2146</td><td>120034.51999999999</td><td>22973.8</td><td>4.2568</td><td>0.00020107695367132085</td></tr>\n",
       "<tr><td>33234</td><td>CXO J033237.4-274000</td><td>03 32 37.44</td><td>-27 40 00.74</td><td>6971.571428571428</td><td>5.1665714285714285e-15</td><td>40.44528571428572</td><td>84860.6</td><td>17128.285714285714</td><td>8.479857142857142</td><td>0.0004919747628477691</td></tr>\n",
       "<tr><td>33235</td><td>CXO J033149.4-275034</td><td>03 31 49.46</td><td>-27 50 34.20</td><td>2313.0</td><td>1.115e-15</td><td>37.418</td><td>130401.7</td><td>44398.0</td><td>8.744</td><td>0.00028694411192492123</td></tr>\n",
       "<tr><td>33236</td><td>CXO J033149.4-274634</td><td>03 31 49.45</td><td>-27 46 34.46</td><td>4694.8</td><td>6.768799999999999e-15</td><td>43.9302</td><td>110817.67999999998</td><td>22787.0</td><td>8.804</td><td>0.0003980155859789369</td></tr>\n",
       "<tr><td>33239</td><td>CXO J033222.7-275224</td><td>03 32 22.76</td><td>-27 52 24.10</td><td>2313.0</td><td>1.776e-15</td><td>13.234</td><td>130407.9</td><td>44316.0</td><td>3.938</td><td>0.00010148158202072114</td></tr>\n",
       "<tr><td>33240</td><td>CXO J033226.5-274801</td><td>03 32 26.57</td><td>-27 48 01.82</td><td>2313.0</td><td>8.431e-16</td><td>11.136</td><td>130398.6</td><td>44286.0</td><td>0.697</td><td>8.539968987397103e-05</td></tr>\n",
       "<tr><td>37759</td><td>CXO J033309.5-274603</td><td>03 33 09.52</td><td>-27 46 03.30</td><td>2074.3333333333335</td><td>4.349666666666667e-15</td><td>32.363</td><td>116558.59999999999</td><td>25248.0</td><td>9.447666666666665</td><td>0.0002843649264516083</td></tr>\n",
       "<tr><td>148107</td><td>CXO J033247.9-274148</td><td>03 32 47.91</td><td>-27 41 48.03</td><td>7432.0</td><td>1.798826666666667e-14</td><td>145.46313333333333</td><td>85670.47333333333</td><td>20396.066666666666</td><td>7.700333333333333</td><td>0.0016822626254727009</td></tr>\n",
       "</table>"
      ],
      "text/plain": [
       "<Table length=182>\n",
       " msid          name         ...       theta          src_rate_aper_b    \n",
       "int64        bytes20        ...      float64             float64        \n",
       "------ -------------------- ... ----------------- ----------------------\n",
       " 11567 CXO J033206.1-275449 ...             7.987 0.00027190843622974873\n",
       " 11570 CXO J033151.1-275051 ...             8.321  0.0004257093496619811\n",
       " 11574 CXO J033236.1-275126 ...             3.743 0.00013653238824851973\n",
       " 11576 CXO J033253.0-275138 ...             6.666  7.808742851366625e-05\n",
       " 11580 CXO J033213.4-274856 ...             3.057  0.0001226103577456419\n",
       " 11586 CXO J033218.8-275136 ...              3.75 0.00012072651863469144\n",
       " 11595 CXO J033244.3-275141 ...             5.117 0.00019158490600714942\n",
       " 11600 CXO J033234.7-275535 ...             7.488 0.00017744079690989122\n",
       " 11692 CXO J033153.4-274843 ...             7.792 0.00018187245698621267\n",
       " 11788 CXO J033202.2-275234 ...             6.978 0.00016800173337688337\n",
       "   ...                  ... ...               ...                    ...\n",
       " 33231 CXO J033201.1-275033 ...             6.259 0.00011035132210699708\n",
       " 33232 CXO J033225.9-274514 ...            3.1536 0.00015063014690995196\n",
       " 33233 CXO J033230.0-274404 ...            4.2568 0.00020107695367132085\n",
       " 33234 CXO J033237.4-274000 ... 8.479857142857142  0.0004919747628477691\n",
       " 33235 CXO J033149.4-275034 ...             8.744 0.00028694411192492123\n",
       " 33236 CXO J033149.4-274634 ...             8.804  0.0003980155859789369\n",
       " 33239 CXO J033222.7-275224 ...             3.938 0.00010148158202072114\n",
       " 33240 CXO J033226.5-274801 ...             0.697  8.539968987397103e-05\n",
       " 37759 CXO J033309.5-274603 ... 9.447666666666665  0.0002843649264516083\n",
       "148107 CXO J033247.9-274148 ... 7.700333333333333  0.0016822626254727009"
      ]
     },
     "execution_count": 31,
     "metadata": {},
     "output_type": "execute_result"
    }
   ],
   "source": [
    "g_sources_mean"
   ]
  },
  {
   "cell_type": "markdown",
   "metadata": {},
   "source": [
    "[Back to top](#Tables---solutions)"
   ]
  }
 ],
 "metadata": {
  "kernelspec": {
   "display_name": "Python 3",
   "language": "python",
   "name": "python3"
  },
  "language_info": {
   "codemirror_mode": {
    "name": "ipython",
    "version": 3
   },
   "file_extension": ".py",
   "mimetype": "text/x-python",
   "name": "python",
   "nbconvert_exporter": "python",
   "pygments_lexer": "ipython3",
   "version": "3.7.4"
  }
 },
 "nbformat": 4,
 "nbformat_minor": 1
}
